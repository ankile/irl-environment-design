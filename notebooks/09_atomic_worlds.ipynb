{
 "cells": [
  {
   "cell_type": "code",
   "execution_count": 1,
   "metadata": {},
   "outputs": [],
   "source": [
    "import os\n",
    "\n",
    "curr_dir = os.path.split(os.getcwd())[1]\n",
    "if curr_dir != \"irl-environment-design\":\n",
    "    os.chdir(\"..\")"
   ]
  },
  {
   "cell_type": "code",
   "execution_count": 2,
   "metadata": {},
   "outputs": [],
   "source": [
    "import numpy as np\n",
    "import matplotlib.pyplot as plt"
   ]
  },
  {
   "cell_type": "code",
   "execution_count": 3,
   "metadata": {},
   "outputs": [],
   "source": [
    "import src.atomic_worlds.big_small as bs\n",
    "import src.atomic_worlds.chain as ch\n",
    "import src.atomic_worlds.gamblers as ga\n",
    "import src.utils.param_sweep as ps\n",
    "import src.utils.transition_matrix as tm\n",
    "import src.utils.make_environment as make_env\n",
    "import src.worlds.mdp2d as mdp2d"
   ]
  },
  {
   "cell_type": "code",
   "execution_count": 4,
   "metadata": {},
   "outputs": [],
   "source": [
    "# Set the number of scales and gammas to use\n",
    "granularity = 20  # 5, 10, 20\n",
    "\n",
    "# Set up parameters to search over\n",
    "probs = np.linspace(0.4, 0.99, granularity)\n",
    "gammas = np.linspace(0.4, 0.99, granularity)"
   ]
  },
  {
   "cell_type": "code",
   "execution_count": 5,
   "metadata": {},
   "outputs": [],
   "source": [
    "def convert_to_environment(world: mdp2d.Experiment_2D):\n",
    "    \"\"\"Converts a world to an environment.\"\"\"\n",
    "    N = world.height\n",
    "    M = world.width\n",
    "\n",
    "    R_dict = world.rewards_dict\n",
    "    R = np.zeros(N * M)\n",
    "    for key in R_dict:\n",
    "        R[key] = R_dict[key]\n",
    "\n",
    "    T = world.mdp.T\n",
    "\n",
    "    environment = make_env.Environment(\n",
    "        N=N,\n",
    "        M=M,\n",
    "        T_true=T,\n",
    "        wall_states=[],\n",
    "        R_sample_mean=None,\n",
    "        start_state=0,\n",
    "        n_walls=0,\n",
    "        R_true=R,\n",
    "    )\n",
    "\n",
    "    return environment"
   ]
  },
  {
   "cell_type": "code",
   "execution_count": 6,
   "metadata": {},
   "outputs": [],
   "source": [
    "def plot_bmap(\n",
    "    world: mdp2d.Experiment_2D,\n",
    "    idx_map=None,\n",
    "    p2idx_override=None,\n",
    "    tmatrix_func=tm.id_func,\n",
    "    start_state=0,\n",
    "    ax=None,\n",
    "):\n",
    "    result = ps.run_experiment(\n",
    "        experiment=world,\n",
    "        transition_matrix_func=tmatrix_func,\n",
    "        params=world.params,\n",
    "        gammas=gammas,\n",
    "        probs=probs,\n",
    "        start_state=start_state,\n",
    "    )\n",
    "\n",
    "    data = result.data\n",
    "\n",
    "    if idx_map:\n",
    "        new_data = np.zeros_like(data)\n",
    "        for fromm, to in idx_map.items():\n",
    "            new_data[data == fromm] = to\n",
    "        data = new_data\n",
    "\n",
    "    if ax is None:\n",
    "        fig, ax = plt.subplots(figsize=(4, 4))\n",
    "\n",
    "    ps.make_general_strategy_heatmap(\n",
    "        results=data,\n",
    "        probs=probs,\n",
    "        p2idx=p2idx_override,\n",
    "        title=f\"\",\n",
    "        ax=ax,\n",
    "        gammas=gammas,\n",
    "        annot=False,\n",
    "        ax_labels=False,\n",
    "        num_ticks=5,\n",
    "    )"
   ]
  },
  {
   "cell_type": "markdown",
   "metadata": {},
   "source": [
    "## Define BigSmall worlds\n"
   ]
  },
  {
   "cell_type": "code",
   "execution_count": 89,
   "metadata": {},
   "outputs": [],
   "source": [
    "big_small_worlds = [\n",
    "    bs.make_smallbig_experiment(\n",
    "        height=7,\n",
    "        width=7,\n",
    "        big_reward=300,\n",
    "        small_reward_frac=0.3,\n",
    "    ),\n",
    "    bs.make_smallbig_experiment(\n",
    "        height=7,\n",
    "        width=7,\n",
    "        big_reward=300,\n",
    "        small_reward_frac=0.05,\n",
    "    ),\n",
    "    bs.make_smallbig_experiment(\n",
    "        height=7,\n",
    "        width=7,\n",
    "        big_reward=300,\n",
    "        small_reward_frac=0.005,\n",
    "    ),\n",
    "]\n",
    "\n",
    "big_small_envs = [convert_to_environment(world) for world in big_small_worlds]"
   ]
  },
  {
   "cell_type": "code",
   "execution_count": 90,
   "metadata": {},
   "outputs": [],
   "source": [
    "p2idx_override_bs = {\n",
    "    \"Close small R\": 1,\n",
    "    \"Far large R\": 0,\n",
    "}\n",
    "\n",
    "idx_map_bs = {0: 1, 1: 0}"
   ]
  },
  {
   "cell_type": "code",
   "execution_count": 91,
   "metadata": {},
   "outputs": [
    {
     "data": {
      "text/plain": [
       "[None, None, None]"
      ]
     },
     "execution_count": 91,
     "metadata": {},
     "output_type": "execute_result"
    },
    {
     "data": {
      "image/png": "[encoded data removed]",
      "text/plain": [
       "<Figure size 800x400 with 3 Axes>"
      ]
     },
     "metadata": {},
     "output_type": "display_data"
    }
   ],
   "source": [
    "fig, axs = plt.subplots(nrows=1, ncols=3, figsize=(8, 4), sharex=True, sharey=True)\n",
    "\n",
    "[\n",
    "    plot_bmap(\n",
    "        world=big_small_world,\n",
    "        idx_map=idx_map_bs,\n",
    "        p2idx_override=p2idx_override_bs,\n",
    "        tmatrix_func=tm.id_func,\n",
    "        ax=ax,\n",
    "    )\n",
    "    for big_small_world, ax in zip(big_small_worlds, axs)\n",
    "]"
   ]
  },
  {
   "cell_type": "markdown",
   "metadata": {},
   "source": [
    "## Define Gambler's Ruin worlds\n"
   ]
  },
  {
   "cell_type": "code",
   "execution_count": 85,
   "metadata": {},
   "outputs": [],
   "source": [
    "gamblers_worlds = [\n",
    "    ga.make_gamblers_experiment(\n",
    "        prob=0.8,\n",
    "        width=5,\n",
    "        big_r=5,\n",
    "        small_r=0,\n",
    "        vary_continuation=False,\n",
    "    ),\n",
    "    ga.make_gamblers_experiment(\n",
    "        prob=0.8,\n",
    "        width=7,\n",
    "        big_r=5,\n",
    "        small_r=0,\n",
    "        vary_continuation=False,\n",
    "    ),\n",
    "    ga.make_gamblers_experiment(\n",
    "        prob=0.8,\n",
    "        width=11,\n",
    "        big_r=5,\n",
    "        small_r=1,\n",
    "        vary_continuation=False,\n",
    "    ),\n",
    "]\n",
    "\n",
    "gamblers_envs = [convert_to_environment(world) for world in gamblers_worlds]"
   ]
  },
  {
   "cell_type": "code",
   "execution_count": 86,
   "metadata": {},
   "outputs": [],
   "source": [
    "p2idx_override_gs = {\n",
    "    \"Continue\": 0,\n",
    "    \"Finish\": 1,\n",
    "}\n",
    "idx_map_gs = {0: 1, 1: 0}\n",
    "\n",
    "\n",
    "def gamblers_transition(*args, **kwargs):\n",
    "    return ga.make_gamblers_transition(*args, **kwargs, vary_continuation=False)\n",
    "\n",
    "\n",
    "def get_start_state(height, width):\n",
    "    return (height * width) // 2"
   ]
  },
  {
   "cell_type": "code",
   "execution_count": 87,
   "metadata": {},
   "outputs": [
    {
     "data": {
      "text/plain": [
       "[None, None, None]"
      ]
     },
     "execution_count": 87,
     "metadata": {},
     "output_type": "execute_result"
    },
    {
     "data": {
      "image/png": "[encoded data removed]",
      "text/plain": [
       "<Figure size 800x400 with 3 Axes>"
      ]
     },
     "metadata": {},
     "output_type": "display_data"
    }
   ],
   "source": [
    "fig, axs = plt.subplots(nrows=1, ncols=3, figsize=(8, 4), sharex=True, sharey=True)\n",
    "\n",
    "[\n",
    "    plot_bmap(\n",
    "        world=gamblers_world,\n",
    "        idx_map=idx_map_gs,\n",
    "        p2idx_override=p2idx_override_gs,\n",
    "        tmatrix_func=gamblers_transition,\n",
    "        start_state=get_start_state(gamblers_world.height, gamblers_world.width),\n",
    "        ax=ax,\n",
    "    )\n",
    "    for gamblers_world, ax in zip(gamblers_worlds, axs)\n",
    "]"
   ]
  },
  {
   "cell_type": "markdown",
   "metadata": {},
   "source": [
    "## Chain world\n"
   ]
  },
  {
   "cell_type": "code",
   "execution_count": 54,
   "metadata": {},
   "outputs": [],
   "source": [
    "chain_worlds = [\n",
    "    ch.make_chain_experiment(\n",
    "        width=7,\n",
    "        goal_mag=100,\n",
    "        disengage_reward=-1,\n",
    "        burden=-1,\n",
    "    ),\n",
    "    ch.make_chain_experiment(\n",
    "        width=7,\n",
    "        goal_mag=200,\n",
    "        disengage_reward=-1,\n",
    "        burden=-1,\n",
    "    ),\n",
    "    ch.make_chain_experiment(\n",
    "        width=14,\n",
    "        goal_mag=100,\n",
    "        disengage_reward=-1,\n",
    "        burden=-1,\n",
    "    ),\n",
    "    ch.make_chain_experiment(\n",
    "        width=14,\n",
    "        goal_mag=200,\n",
    "        disengage_reward=-1,\n",
    "        burden=-1,\n",
    "    ),\n",
    "    ch.make_chain_experiment(\n",
    "        width=21,\n",
    "        goal_mag=100,\n",
    "        disengage_reward=-1,\n",
    "        burden=-1,\n",
    "    ),\n",
    "    ch.make_chain_experiment(\n",
    "        width=21,\n",
    "        goal_mag=200,\n",
    "        disengage_reward=-1,\n",
    "        burden=-1,\n",
    "    ),\n",
    "]\n",
    "\n",
    "chain_envs = [convert_to_environment(world) for world in chain_worlds]"
   ]
  },
  {
   "cell_type": "code",
   "execution_count": 55,
   "metadata": {},
   "outputs": [],
   "source": [
    "p2idx_override_ch = {\n",
    "    \"Exercise\": 0,\n",
    "    \"Disengage\": 1,\n",
    "}\n",
    "idx_map_ch = {0: 1, 1: 0}"
   ]
  },
  {
   "cell_type": "code",
   "execution_count": 56,
   "metadata": {},
   "outputs": [
    {
     "data": {
      "text/plain": [
       "[None, None, None, None, None, None]"
      ]
     },
     "execution_count": 56,
     "metadata": {},
     "output_type": "execute_result"
    },
    {
     "data": {
      "image/png": "[encoded data removed]",
      "text/plain": [
       "<Figure size 800x400 with 6 Axes>"
      ]
     },
     "metadata": {},
     "output_type": "display_data"
    }
   ],
   "source": [
    "fig, axs = plt.subplots(nrows=1, ncols=6, figsize=(8, 4), sharex=True, sharey=True)\n",
    "\n",
    "[\n",
    "    plot_bmap(\n",
    "        world=chain_world,\n",
    "        idx_map=idx_map_ch,\n",
    "        p2idx_override=p2idx_override_ch,\n",
    "        tmatrix_func=ch.make_chain_transition,\n",
    "        ax=ax,\n",
    "    )\n",
    "    for chain_world, ax in zip(chain_worlds, axs)\n",
    "]"
   ]
  }
 ],
 "metadata": {
  "kernelspec": {
   "display_name": "venv",
   "language": "python",
   "name": "python3"
  },
  "language_info": {
   "codemirror_mode": {
    "name": "ipython",
    "version": 3
   },
   "file_extension": ".py",
   "mimetype": "text/x-python",
   "name": "python",
   "nbconvert_exporter": "python",
   "pygments_lexer": "ipython3",
   "version": "3.11.4"
  }
 },
 "nbformat": 4,
 "nbformat_minor": 2
}
