{
 "cells": [
  {
   "cell_type": "code",
   "execution_count": 1,
   "metadata": {},
   "outputs": [
    {
     "name": "stderr",
     "output_type": "stream",
     "text": [
      "/home/paul/.local/lib/python3.10/site-packages/numba/core/decorators.py:282: RuntimeWarning: nopython is set for njit and is ignored\n",
      "  warnings.warn('nopython is set for njit and is ignored', RuntimeWarning)\n"
     ]
    }
   ],
   "source": [
    "import os\n",
    "\n",
    "curr_dir = os.path.split(os.getcwd())[1]\n",
    "if curr_dir != \"irl-environment-design\":\n",
    "    os.chdir(\"..\")\n",
    "import numpy as np\n",
    "import matplotlib.pyplot as plt\n",
    "\n",
    "import src.atomic_worlds.big_small as bs\n",
    "import src.utils.param_sweep as ps\n",
    "# import src.utils.transition_matrix as tm\n",
    "import src.utils.make_environment as make_env\n",
    "import src.worlds.mdp2d as mdp2d\n",
    "\n",
    "from src.utils.visualization import plot_environment\n"
   ]
  },
  {
   "cell_type": "code",
   "execution_count": 2,
   "metadata": {},
   "outputs": [],
   "source": [
    "# Set the number of scales and gammas to use\n",
    "granularity = 20  # 5, 10, 20\n",
    "\n",
    "# Set up parameters to search over\n",
    "probs = np.linspace(0.4, 0.99, granularity)\n",
    "gammas = np.linspace(0.4, 0.99, granularity)"
   ]
  },
  {
   "cell_type": "code",
   "execution_count": 3,
   "metadata": {},
   "outputs": [],
   "source": [
    "def convert_to_environment(world: mdp2d.Experiment_2D):\n",
    "    \"\"\"Converts a world to an environment.\"\"\"\n",
    "    N = world.height\n",
    "    M = world.width\n",
    "\n",
    "    T = world.mdp.T\n",
    "\n",
    "    environment = make_env.Environment(\n",
    "        N=N,\n",
    "        M=M,\n",
    "        T_true=T,\n",
    "        wall_states=[],\n",
    "        R_sample_mean=None,\n",
    "        start_state=0,\n",
    "        n_walls=0,\n",
    "        R_true=world.rewards,\n",
    "    )\n",
    "\n",
    "    return environment"
   ]
  },
  {
   "cell_type": "code",
   "execution_count": 4,
   "metadata": {},
   "outputs": [],
   "source": [
    "def plot_bmap(\n",
    "    world: mdp2d.Experiment_2D,\n",
    "    idx_map=None,\n",
    "    p2idx_override=None,\n",
    "    start_state=0,\n",
    "    ax=None,\n",
    "):\n",
    "    result = ps.run_experiment(\n",
    "        experiment=world,\n",
    "        params=world.params,\n",
    "        gammas=gammas,\n",
    "        probs=probs,\n",
    "        start_state=start_state,\n",
    "    )\n",
    "\n",
    "    data = result.data\n",
    "\n",
    "    if idx_map:\n",
    "        new_data = np.zeros_like(data)\n",
    "        for fromm, to in idx_map.items():\n",
    "            new_data[data == fromm] = to\n",
    "        data = new_data\n",
    "\n",
    "    if ax is None:\n",
    "        fig, ax = plt.subplots(figsize=(4, 4))\n",
    "\n",
    "    ps.make_general_strategy_heatmap(\n",
    "        results=data,\n",
    "        probs=probs,\n",
    "        p2idx=p2idx_override,\n",
    "        title=f\"\",\n",
    "        ax=ax,\n",
    "        gammas=gammas,\n",
    "        annot=False,\n",
    "        ax_labels=False,\n",
    "        num_ticks=5,\n",
    "        legend=False\n",
    "    )\n",
    "    return result"
   ]
  },
  {
   "cell_type": "markdown",
   "metadata": {},
   "source": [
    "## Define Custom worlds\n"
   ]
  },
  {
   "cell_type": "code",
   "execution_count": 5,
   "metadata": {},
   "outputs": [],
   "source": [
    "from src.worlds.mdp2d import Experiment_2D\n",
    "\n",
    "def make_world(\n",
    "    height: int,\n",
    "    width: int,\n",
    "    rewards: np.array,\n",
    "    absorbing_states: list,\n",
    "    wall_states: list\n",
    ") -> Experiment_2D:\n",
    "\n",
    "    experiment = Experiment_2D(\n",
    "        height,\n",
    "        width,\n",
    "        rewards = rewards,\n",
    "        absorbing_states = absorbing_states,\n",
    "        wall_states=wall_states\n",
    "    )\n",
    "\n",
    "    return experiment"
   ]
  },
  {
   "cell_type": "code",
   "execution_count": 6,
   "metadata": {},
   "outputs": [],
   "source": [
    "height = 7\n",
    "width = 7\n",
    "rewards = np.zeros((height, width))\n",
    "wall_states = np.zeros((height, width))\n",
    "\n",
    "rewards[6,0] = 1\n",
    "rewards[6,6] = 3\n",
    "\n",
    "# rewards[5,0] = -1\n",
    "# rewards[4,0] = -1\n",
    "\n",
    "rewards = rewards.flatten()\n",
    "\n",
    "absorbing_states = np.where(rewards > 0)[0]\n",
    "\n",
    "wall_states[2,0] = 1\n",
    "wall_states[4,1] = 1\n",
    "wall_states = wall_states.flatten()\n",
    "wall_states = np.where(wall_states > 0)[0]\n",
    "\n",
    "\n",
    "custom_world = make_world(height=height,\n",
    "                          width=width,\n",
    "                          rewards=rewards,\n",
    "                          absorbing_states=absorbing_states,\n",
    "                          wall_states=wall_states)"
   ]
  },
  {
   "cell_type": "markdown",
   "metadata": {},
   "source": [
    "Make both approaches equally comparable from compute perspective \n",
    "See where both converge when doing 5-10 iterations of hand engineered\n",
    "Translate contraction of posterior in some sort of number -> text others\n",
    "Do a middle of the week check in to discuss whether we want to automate current BM approach or whether we want to scale up to a more complex environment"
   ]
  },
  {
   "cell_type": "code",
   "execution_count": 7,
   "metadata": {},
   "outputs": [
    {
     "name": "stdout",
     "output_type": "stream",
     "text": [
      "New policy!\n"
     ]
    },
    {
     "data": {
      "image/png": "[encoded data removed]",
      "text/plain": [
       "<Figure size 640x480 with 2 Axes>"
      ]
     },
     "metadata": {},
     "output_type": "display_data"
    }
   ],
   "source": [
    "fig, axs = plt.subplots(nrows=1, ncols=2)\n",
    "\n",
    "new_env = convert_to_environment(custom_world)\n",
    "\n",
    "plot_environment(new_env.R_true.reshape(height, width), wall_states=wall_states, ax= axs[0])\n",
    "out = plot_bmap(\n",
    "    world=custom_world,\n",
    "    ax=axs[1],\n",
    ")"
   ]
  },
  {
   "cell_type": "markdown",
   "metadata": {},
   "source": [
    "## Example of a Different BM"
   ]
  },
  {
   "cell_type": "code",
   "execution_count": 10,
   "metadata": {},
   "outputs": [],
   "source": [
    "def cobb_douglas(s, a, b, n_rows, n_cols):\n",
    "    '''\n",
    "    Models Cobb Douglas preferences\n",
    "    '''\n",
    "    row_state = s//n_rows\n",
    "    col_state = s%n_cols\n",
    "    \n",
    "    return (row_state+1)**a*(col_state+1)**b "
   ]
  },
  {
   "cell_type": "markdown",
   "metadata": {},
   "source": [
    "###  Comparison of Env.Design with and without Behavior Maps"
   ]
  },
  {
   "cell_type": "code",
   "execution_count": 11,
   "metadata": {},
   "outputs": [
    {
     "name": "stdout",
     "output_type": "stream",
     "text": [
      "New policy!\n",
      "New policy!\n"
     ]
    },
    {
     "ename": "KeyboardInterrupt",
     "evalue": "",
     "output_type": "error",
     "traceback": [
      "\u001b[0;31m---------------------------------------------------------------------------\u001b[0m",
      "\u001b[0;31mKeyboardInterrupt\u001b[0m                         Traceback (most recent call last)",
      "Cell \u001b[0;32mIn[11], line 128\u001b[0m\n\u001b[1;32m    125\u001b[0m plot_environment(new_env\u001b[38;5;241m.\u001b[39mR_true\u001b[38;5;241m.\u001b[39mreshape(height, width), wall_states\u001b[38;5;241m=\u001b[39mwall_states, ax\u001b[38;5;241m=\u001b[39m \u001b[38;5;28;01mNone\u001b[39;00m)\n\u001b[1;32m    127\u001b[0m plot_environment(new_env\u001b[38;5;241m.\u001b[39mR_true\u001b[38;5;241m.\u001b[39mreshape(height, width), wall_states\u001b[38;5;241m=\u001b[39mwall_states, ax\u001b[38;5;241m=\u001b[39m axs[\u001b[38;5;241m0\u001b[39m])\n\u001b[0;32m--> 128\u001b[0m out \u001b[38;5;241m=\u001b[39m \u001b[43mplot_bmap\u001b[49m\u001b[43m(\u001b[49m\n\u001b[1;32m    129\u001b[0m \u001b[43m    \u001b[49m\u001b[43mworld\u001b[49m\u001b[38;5;241;43m=\u001b[39;49m\u001b[43mcustom_world\u001b[49m\u001b[43m,\u001b[49m\n\u001b[1;32m    130\u001b[0m \u001b[43m    \u001b[49m\u001b[43max\u001b[49m\u001b[38;5;241;43m=\u001b[39;49m\u001b[43maxs\u001b[49m\u001b[43m[\u001b[49m\u001b[38;5;241;43m1\u001b[39;49m\u001b[43m]\u001b[49m\u001b[43m,\u001b[49m\n\u001b[1;32m    131\u001b[0m \u001b[43m)\u001b[49m\n",
      "Cell \u001b[0;32mIn[4], line 8\u001b[0m, in \u001b[0;36mplot_bmap\u001b[0;34m(world, idx_map, p2idx_override, start_state, ax)\u001b[0m\n\u001b[1;32m      1\u001b[0m \u001b[38;5;28;01mdef\u001b[39;00m \u001b[38;5;21mplot_bmap\u001b[39m(\n\u001b[1;32m      2\u001b[0m     world: mdp2d\u001b[38;5;241m.\u001b[39mExperiment_2D,\n\u001b[1;32m      3\u001b[0m     idx_map\u001b[38;5;241m=\u001b[39m\u001b[38;5;28;01mNone\u001b[39;00m,\n\u001b[0;32m   (...)\u001b[0m\n\u001b[1;32m      6\u001b[0m     ax\u001b[38;5;241m=\u001b[39m\u001b[38;5;28;01mNone\u001b[39;00m,\n\u001b[1;32m      7\u001b[0m ):\n\u001b[0;32m----> 8\u001b[0m     result \u001b[38;5;241m=\u001b[39m \u001b[43mps\u001b[49m\u001b[38;5;241;43m.\u001b[39;49m\u001b[43mrun_experiment\u001b[49m\u001b[43m(\u001b[49m\n\u001b[1;32m      9\u001b[0m \u001b[43m        \u001b[49m\u001b[43mexperiment\u001b[49m\u001b[38;5;241;43m=\u001b[39;49m\u001b[43mworld\u001b[49m\u001b[43m,\u001b[49m\n\u001b[1;32m     10\u001b[0m \u001b[43m        \u001b[49m\u001b[43mparams\u001b[49m\u001b[38;5;241;43m=\u001b[39;49m\u001b[43mworld\u001b[49m\u001b[38;5;241;43m.\u001b[39;49m\u001b[43mparams\u001b[49m\u001b[43m,\u001b[49m\n\u001b[1;32m     11\u001b[0m \u001b[43m        \u001b[49m\u001b[43mgammas\u001b[49m\u001b[38;5;241;43m=\u001b[39;49m\u001b[43mgammas\u001b[49m\u001b[43m,\u001b[49m\n\u001b[1;32m     12\u001b[0m \u001b[43m        \u001b[49m\u001b[43mprobs\u001b[49m\u001b[38;5;241;43m=\u001b[39;49m\u001b[43mprobs\u001b[49m\u001b[43m,\u001b[49m\n\u001b[1;32m     13\u001b[0m \u001b[43m        \u001b[49m\u001b[43mstart_state\u001b[49m\u001b[38;5;241;43m=\u001b[39;49m\u001b[43mstart_state\u001b[49m\u001b[43m,\u001b[49m\n\u001b[1;32m     14\u001b[0m \u001b[43m    \u001b[49m\u001b[43m)\u001b[49m\n\u001b[1;32m     16\u001b[0m     data \u001b[38;5;241m=\u001b[39m result\u001b[38;5;241m.\u001b[39mdata\n\u001b[1;32m     18\u001b[0m     \u001b[38;5;28;01mif\u001b[39;00m idx_map:\n",
      "File \u001b[0;32m~/Desktop/Uni/classes/CS282R/irl-environment-design/src/utils/param_sweep.py:66\u001b[0m, in \u001b[0;36mrun_experiment\u001b[0;34m(experiment, params, gammas, probs, start_state, goal_states)\u001b[0m\n\u001b[1;32m     61\u001b[0m idx_policy \u001b[38;5;241m=\u001b[39m \u001b[38;5;241m0\u001b[39m\n\u001b[1;32m     64\u001b[0m \u001b[38;5;28;01mfor\u001b[39;00m (i, prob), (j, gamma) \u001b[38;5;129;01min\u001b[39;00m itertools\u001b[38;5;241m.\u001b[39mproduct(\u001b[38;5;28menumerate\u001b[39m(probs), \u001b[38;5;28menumerate\u001b[39m(gammas)):\n\u001b[0;32m---> 66\u001b[0m     \u001b[43mexperiment\u001b[49m\u001b[38;5;241;43m.\u001b[39;49m\u001b[43mset_user_params\u001b[49m\u001b[43m(\u001b[49m\n\u001b[1;32m     67\u001b[0m \u001b[43m        \u001b[49m\u001b[43mprob\u001b[49m\u001b[38;5;241;43m=\u001b[39;49m\u001b[43mprob\u001b[49m\u001b[43m,\u001b[49m\n\u001b[1;32m     68\u001b[0m \u001b[43m        \u001b[49m\u001b[43mgamma\u001b[49m\u001b[38;5;241;43m=\u001b[39;49m\u001b[43mgamma\u001b[49m\u001b[43m,\u001b[49m\n\u001b[1;32m     69\u001b[0m \u001b[43m        \u001b[49m\u001b[38;5;66;43;03m# reward_param_a=reward_param_a,\u001b[39;49;00m\n\u001b[1;32m     70\u001b[0m \u001b[43m        \u001b[49m\u001b[38;5;66;43;03m# reward_param_b=reward_param_b,\u001b[39;49;00m\n\u001b[1;32m     71\u001b[0m \u001b[43m        \u001b[49m\u001b[43mparams\u001b[49m\u001b[38;5;241;43m=\u001b[39;49m\u001b[43mparams\u001b[49m\u001b[43m,\u001b[49m\n\u001b[1;32m     72\u001b[0m \u001b[43m        \u001b[49m\u001b[38;5;66;43;03m# transition_func=transition_matrix_func,\u001b[39;49;00m\n\u001b[1;32m     73\u001b[0m \u001b[43m        \u001b[49m\u001b[43muse_pessimistic\u001b[49m\u001b[38;5;241;43m=\u001b[39;49m\u001b[38;5;28;43;01mFalse\u001b[39;49;00m\u001b[43m,\u001b[49m\n\u001b[1;32m     74\u001b[0m \u001b[43m    \u001b[49m\u001b[43m)\u001b[49m\n\u001b[1;32m     76\u001b[0m     experiment\u001b[38;5;241m.\u001b[39mmdp\u001b[38;5;241m.\u001b[39msolve(\n\u001b[1;32m     77\u001b[0m         save_heatmap\u001b[38;5;241m=\u001b[39m\u001b[38;5;28;01mFalse\u001b[39;00m,\n\u001b[1;32m     78\u001b[0m         show_heatmap\u001b[38;5;241m=\u001b[39m\u001b[38;5;28;01mFalse\u001b[39;00m,\n\u001b[0;32m   (...)\u001b[0m\n\u001b[1;32m     81\u001b[0m         label_precision\u001b[38;5;241m=\u001b[39m\u001b[38;5;241m1\u001b[39m,\n\u001b[1;32m     82\u001b[0m     )\n\u001b[1;32m     85\u001b[0m     policy_str \u001b[38;5;241m=\u001b[39m follow_policy(\n\u001b[1;32m     86\u001b[0m         experiment\u001b[38;5;241m.\u001b[39mmdp\u001b[38;5;241m.\u001b[39mpolicy,\n\u001b[1;32m     87\u001b[0m         height\u001b[38;5;241m=\u001b[39mexperiment\u001b[38;5;241m.\u001b[39mheight,\n\u001b[0;32m   (...)\u001b[0m\n\u001b[1;32m     90\u001b[0m         goal_states\u001b[38;5;241m=\u001b[39mgoal_states,\n\u001b[1;32m     91\u001b[0m     )\n",
      "File \u001b[0;32m~/Desktop/Uni/classes/CS282R/irl-environment-design/src/worlds/mdp2d.py:231\u001b[0m, in \u001b[0;36mExperiment_2D.set_user_params\u001b[0;34m(self, prob, gamma, params, use_pessimistic)\u001b[0m\n\u001b[1;32m    228\u001b[0m \u001b[38;5;28;01mif\u001b[39;00m \u001b[38;5;129;01mnot\u001b[39;00m use_pessimistic:\n\u001b[1;32m    229\u001b[0m     \u001b[38;5;28mself\u001b[39m\u001b[38;5;241m.\u001b[39maction_success_prob \u001b[38;5;241m=\u001b[39m prob\n\u001b[0;32m--> 231\u001b[0m S, A, T, R \u001b[38;5;241m=\u001b[39m \u001b[38;5;28;43mself\u001b[39;49m\u001b[38;5;241;43m.\u001b[39;49m\u001b[43mmake_MDP_params\u001b[49m\u001b[43m(\u001b[49m\u001b[43m)\u001b[49m\n\u001b[1;32m    232\u001b[0m \u001b[38;5;66;03m# T = transition_func(\u001b[39;00m\n\u001b[1;32m    233\u001b[0m \u001b[38;5;66;03m#     T=T, height=self.height, width=self.width, prob=prob, params=params\u001b[39;00m\n\u001b[1;32m    234\u001b[0m \u001b[38;5;66;03m# )\u001b[39;00m\n\u001b[1;32m    236\u001b[0m \u001b[38;5;28mself\u001b[39m\u001b[38;5;241m.\u001b[39mmdp \u001b[38;5;241m=\u001b[39m MDP_2D(S, A, T, R, \u001b[38;5;28mself\u001b[39m\u001b[38;5;241m.\u001b[39mgamma)\n",
      "File \u001b[0;32m~/Desktop/Uni/classes/CS282R/irl-environment-design/src/worlds/mdp2d.py:179\u001b[0m, in \u001b[0;36mExperiment_2D.make_MDP_params\u001b[0;34m(self)\u001b[0m\n\u001b[1;32m    176\u001b[0m S \u001b[38;5;241m=\u001b[39m np\u001b[38;5;241m.\u001b[39marange(n_states)\u001b[38;5;241m.\u001b[39mreshape(h, w)\n\u001b[1;32m    177\u001b[0m A \u001b[38;5;241m=\u001b[39m np\u001b[38;5;241m.\u001b[39marray((\u001b[38;5;241m0\u001b[39m, \u001b[38;5;241m1\u001b[39m, \u001b[38;5;241m2\u001b[39m, \u001b[38;5;241m3\u001b[39m))  \u001b[38;5;66;03m# 0 is left, 1 is right, 2 is up, 3 is down\u001b[39;00m\n\u001b[0;32m--> 179\u001b[0m T \u001b[38;5;241m=\u001b[39m \u001b[43mnp\u001b[49m\u001b[38;5;241;43m.\u001b[39;49m\u001b[43mzeros\u001b[49m\u001b[43m(\u001b[49m\u001b[43m(\u001b[49m\u001b[43mA\u001b[49m\u001b[38;5;241;43m.\u001b[39;49m\u001b[43mshape\u001b[49m\u001b[43m[\u001b[49m\u001b[38;5;241;43m0\u001b[39;49m\u001b[43m]\u001b[49m\u001b[43m,\u001b[49m\u001b[43m \u001b[49m\u001b[43mn_states\u001b[49m\u001b[43m,\u001b[49m\u001b[43m \u001b[49m\u001b[43mn_states\u001b[49m\u001b[43m)\u001b[49m\u001b[43m)\u001b[49m\n\u001b[1;32m    182\u001b[0m T \u001b[38;5;241m=\u001b[39m transition_matrix(N\u001b[38;5;241m=\u001b[39m\u001b[38;5;28mself\u001b[39m\u001b[38;5;241m.\u001b[39mheight, M\u001b[38;5;241m=\u001b[39m\u001b[38;5;28mself\u001b[39m\u001b[38;5;241m.\u001b[39mwidth, p\u001b[38;5;241m=\u001b[39m\u001b[38;5;28mself\u001b[39m\u001b[38;5;241m.\u001b[39maction_success_prob, absorbing_states\u001b[38;5;241m=\u001b[39m\u001b[38;5;28mself\u001b[39m\u001b[38;5;241m.\u001b[39mabsorbing_states)\n\u001b[1;32m    183\u001b[0m T \u001b[38;5;241m=\u001b[39m insert_walls_into_T(T\u001b[38;5;241m=\u001b[39mT, wall_indices\u001b[38;5;241m=\u001b[39m\u001b[38;5;28mself\u001b[39m\u001b[38;5;241m.\u001b[39mwall_states)\n",
      "\u001b[0;31mKeyboardInterrupt\u001b[0m: "
     ]
    },
    {
     "data": {
      "image/png": "[encoded data removed]",
      "text/plain": [
       "<Figure size 640x480 with 2 Axes>"
      ]
     },
     "metadata": {},
     "output_type": "display_data"
    },
    {
     "data": {
      "image/png": "[encoded data removed]",
      "text/plain": [
       "<Figure size 640x480 with 1 Axes>"
      ]
     },
     "metadata": {},
     "output_type": "display_data"
    }
   ],
   "source": [
    "height = 15\n",
    "width = 15\n",
    "rewards = np.zeros((height, width))\n",
    "wall_states = np.zeros((height, width))\n",
    "\n",
    "\n",
    "#reward blop in the middle\n",
    "rewards[4,6] = 3.7\n",
    "rewards[5,6] = 3.8\n",
    "rewards[4,7] = 4\n",
    "rewards[5,7] = 4.2\n",
    "\n",
    "\n",
    "absorbing_states = np.where(rewards > 0)[0]\n",
    "\n",
    "\n",
    "#wall blop top left corner\n",
    "wall_states[3,2] = 1\n",
    "wall_states[4,1] = 1\n",
    "wall_states[4,2] = 1\n",
    "wall_states[4,3] = 1\n",
    "wall_states[4,1] = 1\n",
    "wall_states[4,2] = 1\n",
    "wall_states[4,3] = 1\n",
    "wall_states[5,3] = 1\n",
    "wall_states[5,2] = 1\n",
    "wall_states[6,2] = 1\n",
    "\n",
    "rewards[5,4] = -1\n",
    "rewards[2,5] = -1\n",
    "\n",
    "\n",
    "#wall blop middle left\n",
    "wall_states[9,2] = 1\n",
    "wall_states[9,3] = 1\n",
    "wall_states[9,3] = 1\n",
    "wall_states[9,5] = 1\n",
    "wall_states[10,2] = 1\n",
    "wall_states[10,3] = 1\n",
    "wall_states[10,4] = 1\n",
    "wall_states[11,4] = 1\n",
    "\n",
    "rewards[8,3] = -1\n",
    "rewards[9,4] = -1\n",
    "rewards[8,5] = -1\n",
    "\n",
    "\n",
    "#long wall along top\n",
    "wall_states[1,5] = 1\n",
    "wall_states[1,6] = 1\n",
    "wall_states[1,7] = 1\n",
    "wall_states[1,8] = 1\n",
    "wall_states[1,9] = 1\n",
    "wall_states[1,10] = 1\n",
    "wall_states[2,6] = 1\n",
    "wall_states[2,7] = 1\n",
    "wall_states[2,8] = 1\n",
    "wall_states[2,9] = 1\n",
    "\n",
    "rewards[3,3] = -1\n",
    "rewards[4,4] = -1\n",
    "\n",
    "rewards[8,3] = -1\n",
    "rewards[9,4] = -1\n",
    "rewards[8,5] = -1\n",
    "\n",
    "\n",
    "#wall blop middle right\n",
    "wall_states[5,10] = 1\n",
    "wall_states[6,10] = 1\n",
    "wall_states[6,10] = 1\n",
    "wall_states[6,10] = 1\n",
    "wall_states[6,10] = 1\n",
    "wall_states[6,10] = 1\n",
    "wall_states[6,11] = 1\n",
    "wall_states[7,11] = 1\n",
    "wall_states[7,11] = 1\n",
    "wall_states[8,11] = 1\n",
    "\n",
    "\n",
    "#reward blop bottom left\n",
    "rewards[14,2] = 4\n",
    "rewards[13,3] = 4.5\n",
    "rewards[14,3] = 4.7\n",
    "rewards[14,4] = 4.8\n",
    "\n",
    "\n",
    "\n",
    "\n",
    "#long wall along top\n",
    "wall_states[12,6] = 1\n",
    "wall_states[12,7] = 1\n",
    "wall_states[12,8] = 1\n",
    "wall_states[12,9] = 1\n",
    "wall_states[13,10] = 1\n",
    "wall_states[13,7] = 1\n",
    "wall_states[13,8] = 1\n",
    "wall_states[13,9] = 1\n",
    "\n",
    "\n",
    "#reawrds bottom right corner\n",
    "rewards[13,14] = 10\n",
    "rewards[14, 14] = 10\n",
    "\n",
    "\n",
    "\n",
    "\n",
    "wall_states = wall_states.flatten()\n",
    "rewards = rewards.flatten()\n",
    "\n",
    "wall_states = np.where(wall_states > 0)[0]\n",
    "\n",
    "\n",
    "custom_world = make_world(height=height,\n",
    "                          width=width,\n",
    "                          rewards=rewards,\n",
    "                          absorbing_states=absorbing_states,\n",
    "                          wall_states=wall_states)\n",
    "\n",
    "new_env = convert_to_environment(custom_world)\n",
    "\n",
    "fig, axs = plt.subplots(nrows=1, ncols=2)\n",
    "\n",
    "\n",
    "plot_environment(new_env.R_true.reshape(height, width), wall_states=wall_states, ax= None)\n",
    "\n",
    "plot_environment(new_env.R_true.reshape(height, width), wall_states=wall_states, ax= axs[0])\n",
    "out = plot_bmap(\n",
    "    world=custom_world,\n",
    "    ax=axs[1],\n",
    ")"
   ]
  },
  {
   "cell_type": "code",
   "execution_count": null,
   "metadata": {},
   "outputs": [
    {
     "data": {
      "text/plain": [
       "ExperimentResult(data=array([[ 0,  0,  0,  0,  0,  0,  0,  0,  0,  0,  0,  1,  1,  2,  2,  2,\n",
       "         3,  3,  4,  5],\n",
       "       [ 0,  0,  0,  0,  0,  0,  0,  0,  0,  1,  1,  1,  2,  2,  2,  2,\n",
       "         3,  3,  4,  5],\n",
       "       [ 0,  0,  0,  0,  0,  0,  0,  0,  1,  1,  1,  2,  2,  2,  2,  3,\n",
       "         3,  3,  4,  5],\n",
       "       [ 0,  0,  0,  0,  0,  0,  0,  1,  1,  1,  2,  2,  2,  2,  2,  3,\n",
       "         3,  3,  4,  6],\n",
       "       [ 0,  0,  0,  0,  0,  0,  1,  1,  1,  1,  2,  2,  2,  2,  2,  3,\n",
       "         3,  3,  4,  6],\n",
       "       [ 0,  0,  0,  0,  0,  1,  1,  1,  1,  2,  2,  2,  2,  2,  2,  3,\n",
       "         3,  3,  4,  7],\n",
       "       [ 0,  0,  0,  0,  1,  1,  1,  1,  2,  2,  2,  2,  2,  2,  2,  3,\n",
       "         3,  3,  4,  8],\n",
       "       [ 0,  0,  0,  1,  1,  1,  1,  2,  2,  2,  2,  2,  2,  2,  2,  3,\n",
       "         3,  3,  3,  8],\n",
       "       [ 0,  0,  1,  1,  1,  1,  2,  2,  2,  2,  2,  2,  2,  2,  2,  3,\n",
       "         3,  3,  3,  9],\n",
       "       [ 0,  1,  1,  1,  1,  1,  2,  2,  2,  2,  2,  2,  2,  2,  2,  3,\n",
       "         3,  3,  3,  9],\n",
       "       [ 0,  1,  1,  1,  1,  2,  2,  2,  2,  2,  2,  2,  2,  2,  2,  3,\n",
       "         3,  3,  3,  9],\n",
       "       [ 1,  1,  1,  1,  2,  2,  2,  2,  2,  2,  2,  2,  2,  2,  2,  3,\n",
       "         3,  3, 10,  9],\n",
       "       [ 1,  1,  1,  2,  2,  2,  2,  2,  2,  2,  2,  2,  2,  2,  2,  2,\n",
       "         3,  3, 10,  9],\n",
       "       [ 1,  1,  2,  2,  2,  2,  2,  2,  2,  2,  2,  2,  2,  2,  2,  2,\n",
       "         3,  3, 10,  9],\n",
       "       [ 1,  2,  2,  2,  2,  2,  2,  2,  2,  2,  2,  2,  2,  2,  2,  2,\n",
       "         2,  3, 10, 11],\n",
       "       [ 2,  2,  2,  2,  2,  2,  2,  2,  2,  2,  2,  2,  2,  2,  2,  2,\n",
       "         2,  2, 10, 10],\n",
       "       [ 2,  2,  2,  2,  2,  2,  2,  2,  2,  2,  2,  2,  2,  2,  2,  2,\n",
       "         2,  2, 10, 10],\n",
       "       [ 2,  2,  2,  2,  2,  2,  2,  2,  2,  2,  2,  2,  2,  2,  2,  2,\n",
       "         2,  2, 12, 10],\n",
       "       [ 2,  2,  2,  2,  2,  2,  2,  2,  2,  2,  2,  2,  2,  2,  2,  2,\n",
       "         2,  2, 12, 12],\n",
       "       [ 2,  2,  2,  2,  2,  2,  2,  2,  2,  2,  2,  2,  2,  2,  2,  2,\n",
       "         2,  2, 13, 12]], dtype=int32), p2idx={'L': 0, 'RRRRDDDRRDRDU': 1, 'RRRDRDDRRDRDU': 2, 'RRRDDRDRRDRDU': 3, 'RRRDDRRDRDRDU': 4, 'RRRDDDRRRDRDDDDDRRRRDDDDRRRDR': 5, 'RRRDDDRRRDRDDDRRRDDRDDDDRRRDR': 6, 'RRRRDDRDRDRDDDRRRDDRDDDDRRRDR': 7, 'RRRRDDRDRDRDDRDRRDDRDDDDRRRDR': 8, 'RRRRDDRDRDRDRDDRRDDRDDDDRRRDR': 9, 'RRRDDRDRRDRDRDDRRDDRDDDDRRRDR': 10, 'RRRRDDDRRDRDRDDRRDDRDDDDRRRDR': 11, 'RRRDRDDRRDRDRDDRRDDRDDDDRRRDR': 12, 'RRRDRDDRRDRDRDDRRDDRDDDRRDRDR': 13}, probs=None)"
      ]
     },
     "execution_count": 17,
     "metadata": {},
     "output_type": "execute_result"
    }
   ],
   "source": [
    "out"
   ]
  }
 ],
 "metadata": {
  "kernelspec": {
   "display_name": "Python 3",
   "language": "python",
   "name": "python3"
  },
  "language_info": {
   "codemirror_mode": {
    "name": "ipython",
    "version": 3
   },
   "file_extension": ".py",
   "mimetype": "text/x-python",
   "name": "python",
   "nbconvert_exporter": "python",
   "pygments_lexer": "ipython3",
   "version": "3.10.12"
  }
 },
 "nbformat": 4,
 "nbformat_minor": 2
}
