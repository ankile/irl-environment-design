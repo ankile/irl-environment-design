{
 "cells": [
  {
   "cell_type": "code",
   "execution_count": 11,
   "metadata": {},
   "outputs": [],
   "source": [
    "import os\n",
    "\n",
    "curr_dir = os.path.split(os.getcwd())[1]\n",
    "if curr_dir != \"irl-environment-design\":\n",
    "    os.chdir(\"..\")\n",
    "import numpy as np\n",
    "import matplotlib.pyplot as plt\n",
    "\n",
    "import src.atomic_worlds.big_small as bs\n",
    "import src.utils.param_sweep as ps\n",
    "# import src.utils.transition_matrix as tm\n",
    "import src.utils.make_environment as make_env\n",
    "import src.worlds.mdp2d as mdp2d\n",
    "\n",
    "from src.utils.visualization import plot_environment\n"
   ]
  },
  {
   "cell_type": "code",
   "execution_count": 12,
   "metadata": {},
   "outputs": [],
   "source": [
    "# Set the number of scales and gammas to use\n",
    "granularity = 20  # 5, 10, 20\n",
    "\n",
    "# Set up parameters to search over\n",
    "probs = np.linspace(0.4, 0.99, granularity)\n",
    "gammas = np.linspace(0.4, 0.99, granularity)"
   ]
  },
  {
   "cell_type": "code",
   "execution_count": 13,
   "metadata": {},
   "outputs": [],
   "source": [
    "def convert_to_environment(world: mdp2d.Experiment_2D):\n",
    "    \"\"\"Converts a world to an environment.\"\"\"\n",
    "    N = world.height\n",
    "    M = world.width\n",
    "\n",
    "    T = world.mdp.T\n",
    "\n",
    "    environment = make_env.Environment(\n",
    "        N=N,\n",
    "        M=M,\n",
    "        T_true=T,\n",
    "        wall_states=[],\n",
    "        R_sample_mean=None,\n",
    "        start_state=0,\n",
    "        n_walls=0,\n",
    "        R_true=world.rewards,\n",
    "    )\n",
    "\n",
    "    return environment"
   ]
  },
  {
   "cell_type": "code",
   "execution_count": 14,
   "metadata": {},
   "outputs": [],
   "source": [
    "def plot_bmap(\n",
    "    world: mdp2d.Experiment_2D,\n",
    "    idx_map=None,\n",
    "    p2idx_override=None,\n",
    "    start_state=0,\n",
    "    ax=None,\n",
    "):\n",
    "    result = ps.run_experiment(\n",
    "        experiment=world,\n",
    "        params=world.params,\n",
    "        gammas=gammas,\n",
    "        probs=probs,\n",
    "        start_state=start_state,\n",
    "    )\n",
    "\n",
    "    data = result.data\n",
    "\n",
    "    if idx_map:\n",
    "        new_data = np.zeros_like(data)\n",
    "        for fromm, to in idx_map.items():\n",
    "            new_data[data == fromm] = to\n",
    "        data = new_data\n",
    "\n",
    "    if ax is None:\n",
    "        fig, ax = plt.subplots(figsize=(4, 4))\n",
    "\n",
    "    ps.make_general_strategy_heatmap(\n",
    "        results=data,\n",
    "        probs=probs,\n",
    "        p2idx=p2idx_override,\n",
    "        title=f\"\",\n",
    "        ax=ax,\n",
    "        gammas=gammas,\n",
    "        annot=False,\n",
    "        ax_labels=False,\n",
    "        num_ticks=5,\n",
    "        legend=False\n",
    "    )\n",
    "    return result"
   ]
  },
  {
   "cell_type": "markdown",
   "metadata": {},
   "source": [
    "## Define Custom worlds\n"
   ]
  },
  {
   "cell_type": "code",
   "execution_count": 15,
   "metadata": {},
   "outputs": [],
   "source": [
    "from src.worlds.mdp2d import Experiment_2D\n",
    "\n",
    "def make_world(\n",
    "    height: int,\n",
    "    width: int,\n",
    "    rewards: np.array,\n",
    "    absorbing_states: list,\n",
    "    wall_states: list\n",
    ") -> Experiment_2D:\n",
    "\n",
    "    experiment = Experiment_2D(\n",
    "        height,\n",
    "        width,\n",
    "        rewards = rewards,\n",
    "        absorbing_states = absorbing_states,\n",
    "        wall_states=wall_states\n",
    "    )\n",
    "\n",
    "    return experiment"
   ]
  },
  {
   "cell_type": "code",
   "execution_count": 35,
   "metadata": {},
   "outputs": [],
   "source": [
    "height = 7\n",
    "width = 7\n",
    "rewards = np.zeros((height, width))\n",
    "wall_states = np.zeros((height, width))\n",
    "\n",
    "rewards[6,0] = 1\n",
    "rewards[6,6] = 3\n",
    "\n",
    "# rewards[5,0] = -1\n",
    "# rewards[4,0] = -1\n",
    "\n",
    "rewards = rewards.flatten()\n",
    "\n",
    "absorbing_states = np.where(rewards > 0)[0]\n",
    "\n",
    "wall_states[2,0] = 1\n",
    "wall_states[4,1] = 1\n",
    "wall_states = wall_states.flatten()\n",
    "wall_states = np.where(wall_states > 0)[0]\n",
    "\n",
    "\n",
    "custom_world = make_world(height=height,\n",
    "                          width=width,\n",
    "                          rewards=rewards,\n",
    "                          absorbing_states=absorbing_states,\n",
    "                          wall_states=wall_states)"
   ]
  },
  {
   "cell_type": "markdown",
   "metadata": {},
   "source": [
    "Make both approaches equally comparable from compute perspective \n",
    "See where both converge when doing 5-10 iterations of hand engineered\n",
    "Translate contraction of posterior in some sort of number -> text others\n",
    "Do a middle of the week check in to discuss whether we want to automate current BM approach or whether we want to scale up to a more complex environment"
   ]
  },
  {
   "cell_type": "code",
   "execution_count": 36,
   "metadata": {},
   "outputs": [
    {
     "data": {
      "image/png": "[encoded data removed]",
      "text/plain": [
       "<Figure size 640x480 with 2 Axes>"
      ]
     },
     "metadata": {},
     "output_type": "display_data"
    }
   ],
   "source": [
    "fig, axs = plt.subplots(nrows=1, ncols=2)\n",
    "\n",
    "new_env = convert_to_environment(custom_world)\n",
    "\n",
    "plot_environment(new_env.R_true.reshape(height, width), wall_states=wall_states, ax= axs[0])\n",
    "out = plot_bmap(\n",
    "    world=custom_world,\n",
    "    ax=axs[1],\n",
    ")"
   ]
  },
  {
   "cell_type": "markdown",
   "metadata": {},
   "source": [
    "## Example of a Different BM"
   ]
  },
  {
   "cell_type": "code",
   "execution_count": 9,
   "metadata": {},
   "outputs": [],
   "source": [
    "def cobb_douglas(s, a, b, n_rows, n_cols):\n",
    "    '''\n",
    "    Models Cobb Douglas preferences\n",
    "    '''\n",
    "    row_state = s//n_rows\n",
    "    col_state = s%n_cols\n",
    "    \n",
    "    return (row_state+1)**a*(col_state+1)**b "
   ]
  },
  {
   "cell_type": "markdown",
   "metadata": {},
   "source": [
    "###  Comparison of Env.Design with and without Behavior Maps"
   ]
  },
  {
   "cell_type": "code",
   "execution_count": 16,
   "metadata": {},
   "outputs": [
    {
     "data": {
      "image/png": "[encoded data removed]",
      "text/plain": [
       "<Figure size 640x480 with 2 Axes>"
      ]
     },
     "metadata": {},
     "output_type": "display_data"
    },
    {
     "data": {
      "image/png": "[encoded data removed]",
      "text/plain": [
       "<Figure size 640x480 with 1 Axes>"
      ]
     },
     "metadata": {},
     "output_type": "display_data"
    }
   ],
   "source": [
    "height = 15\n",
    "width = 15\n",
    "rewards = np.zeros((height, width))\n",
    "wall_states = np.zeros((height, width))\n",
    "\n",
    "\n",
    "#reward blop in the middle\n",
    "rewards[4,6] = 3.7\n",
    "rewards[5,6] = 3.8\n",
    "rewards[4,7] = 4\n",
    "rewards[5,7] = 4.2\n",
    "\n",
    "\n",
    "absorbing_states = np.where(rewards > 0)[0]\n",
    "\n",
    "\n",
    "#wall blop top left corner\n",
    "wall_states[3,2] = 1\n",
    "wall_states[4,1] = 1\n",
    "wall_states[4,2] = 1\n",
    "wall_states[4,3] = 1\n",
    "wall_states[4,1] = 1\n",
    "wall_states[4,2] = 1\n",
    "wall_states[4,3] = 1\n",
    "wall_states[5,3] = 1\n",
    "wall_states[5,2] = 1\n",
    "wall_states[6,2] = 1\n",
    "\n",
    "rewards[5,4] = -1\n",
    "rewards[2,5] = -1\n",
    "\n",
    "\n",
    "#wall blop middle left\n",
    "wall_states[9,2] = 1\n",
    "wall_states[9,3] = 1\n",
    "wall_states[9,3] = 1\n",
    "wall_states[9,5] = 1\n",
    "wall_states[10,2] = 1\n",
    "wall_states[10,3] = 1\n",
    "wall_states[10,4] = 1\n",
    "wall_states[11,4] = 1\n",
    "\n",
    "rewards[8,3] = -1\n",
    "rewards[9,4] = -1\n",
    "rewards[8,5] = -1\n",
    "\n",
    "\n",
    "#long wall along top\n",
    "wall_states[1,5] = 1\n",
    "wall_states[1,6] = 1\n",
    "wall_states[1,7] = 1\n",
    "wall_states[1,8] = 1\n",
    "wall_states[1,9] = 1\n",
    "wall_states[1,10] = 1\n",
    "wall_states[2,6] = 1\n",
    "wall_states[2,7] = 1\n",
    "wall_states[2,8] = 1\n",
    "wall_states[2,9] = 1\n",
    "\n",
    "rewards[3,3] = -1\n",
    "rewards[4,4] = -1\n",
    "\n",
    "rewards[8,3] = -1\n",
    "rewards[9,4] = -1\n",
    "rewards[8,5] = -1\n",
    "\n",
    "\n",
    "#wall blop middle right\n",
    "wall_states[5,10] = 1\n",
    "wall_states[6,10] = 1\n",
    "wall_states[6,10] = 1\n",
    "wall_states[6,10] = 1\n",
    "wall_states[6,10] = 1\n",
    "wall_states[6,10] = 1\n",
    "wall_states[6,11] = 1\n",
    "wall_states[7,11] = 1\n",
    "wall_states[7,11] = 1\n",
    "wall_states[8,11] = 1\n",
    "\n",
    "\n",
    "#reward blop bottom left\n",
    "rewards[14,2] = 4\n",
    "rewards[13,3] = 4.5\n",
    "rewards[14,3] = 4.7\n",
    "rewards[14,4] = 4.8\n",
    "\n",
    "\n",
    "\n",
    "\n",
    "#long wall along top\n",
    "wall_states[12,6] = 1\n",
    "wall_states[12,7] = 1\n",
    "wall_states[12,8] = 1\n",
    "wall_states[12,9] = 1\n",
    "wall_states[13,10] = 1\n",
    "wall_states[13,7] = 1\n",
    "wall_states[13,8] = 1\n",
    "wall_states[13,9] = 1\n",
    "\n",
    "\n",
    "#reawrds bottom right corner\n",
    "rewards[13,14] = 10\n",
    "rewards[14, 14] = 10\n",
    "\n",
    "\n",
    "\n",
    "\n",
    "wall_states = wall_states.flatten()\n",
    "rewards = rewards.flatten()\n",
    "\n",
    "wall_states = np.where(wall_states > 0)[0]\n",
    "\n",
    "\n",
    "custom_world = make_world(height=height,\n",
    "                          width=width,\n",
    "                          rewards=rewards,\n",
    "                          absorbing_states=absorbing_states,\n",
    "                          wall_states=wall_states)\n",
    "\n",
    "new_env = convert_to_environment(custom_world)\n",
    "\n",
    "fig, axs = plt.subplots(nrows=1, ncols=2)\n",
    "\n",
    "\n",
    "plot_environment(new_env.R_true.reshape(height, width), wall_states=wall_states, ax= None)\n",
    "\n",
    "plot_environment(new_env.R_true.reshape(height, width), wall_states=wall_states, ax= axs[0])\n",
    "out = plot_bmap(\n",
    "    world=custom_world,\n",
    "    ax=axs[1],\n",
    ")"
   ]
  },
  {
   "cell_type": "code",
   "execution_count": 17,
   "metadata": {},
   "outputs": [
    {
     "data": {
      "text/plain": [
       "ExperimentResult(data=array([[ 0,  0,  0,  0,  0,  0,  0,  0,  0,  0,  0,  1,  1,  2,  2,  2,\n",
       "         3,  3,  4,  5],\n",
       "       [ 0,  0,  0,  0,  0,  0,  0,  0,  0,  1,  1,  1,  2,  2,  2,  2,\n",
       "         3,  3,  4,  5],\n",
       "       [ 0,  0,  0,  0,  0,  0,  0,  0,  1,  1,  1,  2,  2,  2,  2,  3,\n",
       "         3,  3,  4,  5],\n",
       "       [ 0,  0,  0,  0,  0,  0,  0,  1,  1,  1,  2,  2,  2,  2,  2,  3,\n",
       "         3,  3,  4,  6],\n",
       "       [ 0,  0,  0,  0,  0,  0,  1,  1,  1,  1,  2,  2,  2,  2,  2,  3,\n",
       "         3,  3,  4,  6],\n",
       "       [ 0,  0,  0,  0,  0,  1,  1,  1,  1,  2,  2,  2,  2,  2,  2,  3,\n",
       "         3,  3,  4,  7],\n",
       "       [ 0,  0,  0,  0,  1,  1,  1,  1,  2,  2,  2,  2,  2,  2,  2,  3,\n",
       "         3,  3,  4,  8],\n",
       "       [ 0,  0,  0,  1,  1,  1,  1,  2,  2,  2,  2,  2,  2,  2,  2,  3,\n",
       "         3,  3,  3,  8],\n",
       "       [ 0,  0,  1,  1,  1,  1,  2,  2,  2,  2,  2,  2,  2,  2,  2,  3,\n",
       "         3,  3,  3,  9],\n",
       "       [ 0,  1,  1,  1,  1,  1,  2,  2,  2,  2,  2,  2,  2,  2,  2,  3,\n",
       "         3,  3,  3,  9],\n",
       "       [ 0,  1,  1,  1,  1,  2,  2,  2,  2,  2,  2,  2,  2,  2,  2,  3,\n",
       "         3,  3,  3,  9],\n",
       "       [ 1,  1,  1,  1,  2,  2,  2,  2,  2,  2,  2,  2,  2,  2,  2,  3,\n",
       "         3,  3, 10,  9],\n",
       "       [ 1,  1,  1,  2,  2,  2,  2,  2,  2,  2,  2,  2,  2,  2,  2,  2,\n",
       "         3,  3, 10,  9],\n",
       "       [ 1,  1,  2,  2,  2,  2,  2,  2,  2,  2,  2,  2,  2,  2,  2,  2,\n",
       "         3,  3, 10,  9],\n",
       "       [ 1,  2,  2,  2,  2,  2,  2,  2,  2,  2,  2,  2,  2,  2,  2,  2,\n",
       "         2,  3, 10, 11],\n",
       "       [ 2,  2,  2,  2,  2,  2,  2,  2,  2,  2,  2,  2,  2,  2,  2,  2,\n",
       "         2,  2, 10, 10],\n",
       "       [ 2,  2,  2,  2,  2,  2,  2,  2,  2,  2,  2,  2,  2,  2,  2,  2,\n",
       "         2,  2, 10, 10],\n",
       "       [ 2,  2,  2,  2,  2,  2,  2,  2,  2,  2,  2,  2,  2,  2,  2,  2,\n",
       "         2,  2, 12, 10],\n",
       "       [ 2,  2,  2,  2,  2,  2,  2,  2,  2,  2,  2,  2,  2,  2,  2,  2,\n",
       "         2,  2, 12, 12],\n",
       "       [ 2,  2,  2,  2,  2,  2,  2,  2,  2,  2,  2,  2,  2,  2,  2,  2,\n",
       "         2,  2, 13, 12]], dtype=int32), p2idx={'L': 0, 'RRRRDDDRRDRDU': 1, 'RRRDRDDRRDRDU': 2, 'RRRDDRDRRDRDU': 3, 'RRRDDRRDRDRDU': 4, 'RRRDDDRRRDRDDDDDRRRRDDDDRRRDR': 5, 'RRRDDDRRRDRDDDRRRDDRDDDDRRRDR': 6, 'RRRRDDRDRDRDDDRRRDDRDDDDRRRDR': 7, 'RRRRDDRDRDRDDRDRRDDRDDDDRRRDR': 8, 'RRRRDDRDRDRDRDDRRDDRDDDDRRRDR': 9, 'RRRDDRDRRDRDRDDRRDDRDDDDRRRDR': 10, 'RRRRDDDRRDRDRDDRRDDRDDDDRRRDR': 11, 'RRRDRDDRRDRDRDDRRDDRDDDDRRRDR': 12, 'RRRDRDDRRDRDRDDRRDDRDDDRRDRDR': 13}, probs=None)"
      ]
     },
     "execution_count": 17,
     "metadata": {},
     "output_type": "execute_result"
    }
   ],
   "source": [
    "out"
   ]
  }
 ],
 "metadata": {
  "kernelspec": {
   "display_name": "Python 3",
   "language": "python",
   "name": "python3"
  },
  "language_info": {
   "codemirror_mode": {
    "name": "ipython",
    "version": 3
   },
   "file_extension": ".py",
   "mimetype": "text/x-python",
   "name": "python",
   "nbconvert_exporter": "python",
   "pygments_lexer": "ipython3",
   "version": "3.10.12"
  }
 },
 "nbformat": 4,
 "nbformat_minor": 2
}
