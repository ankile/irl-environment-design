{
 "cells": [
  {
   "cell_type": "code",
   "execution_count": 25,
   "metadata": {},
   "outputs": [],
   "source": [
    "import os\n",
    "\n",
    "curr_dir = os.path.split(os.getcwd())[1]\n",
    "if curr_dir != \"irl-environment-design\":\n",
    "    os.chdir(\"..\")\n",
    "import numpy as np\n",
    "import matplotlib.pyplot as plt\n",
    "\n",
    "import src.atomic_worlds.big_small as bs\n",
    "import src.utils.param_sweep as ps\n",
    "import src.utils.transition_matrix as tm\n",
    "import src.utils.make_environment as make_env\n",
    "import src.worlds.mdp2d as mdp2d\n",
    "\n",
    "from src.utils.visualization import plot_environment\n",
    "from src.utils.make_environment import transition_matrix, Environment, insert_walls_into_T\n"
   ]
  },
  {
   "cell_type": "code",
   "execution_count": 3,
   "metadata": {},
   "outputs": [],
   "source": [
    "# Set the number of scales and gammas to use\n",
    "granularity = 20  # 5, 10, 20\n",
    "\n",
    "# Set up parameters to search over\n",
    "probs = np.linspace(0.4, 0.99, granularity)\n",
    "gammas = np.linspace(0.4, 0.99, granularity)"
   ]
  },
  {
   "cell_type": "code",
   "execution_count": 35,
   "metadata": {},
   "outputs": [],
   "source": [
    "def convert_to_environment(world: mdp2d.Experiment_2D):\n",
    "    \"\"\"Converts a world to an environment.\"\"\"\n",
    "    N = world.height\n",
    "    M = world.width\n",
    "\n",
    "    R_dict = world.rewards_dict\n",
    "    R = np.zeros(N * M)\n",
    "    for key in R_dict:\n",
    "        R[key] = R_dict[key]\n",
    "\n",
    "    T = world.mdp.T\n",
    "\n",
    "    environment = make_env.Environment(\n",
    "        N=N,\n",
    "        M=M,\n",
    "        T_true=T,\n",
    "        wall_states=[],\n",
    "        R_sample_mean=None,\n",
    "        start_state=0,\n",
    "        n_walls=0,\n",
    "        R_true=R,\n",
    "    )\n",
    "\n",
    "    return environment"
   ]
  },
  {
   "cell_type": "code",
   "execution_count": 36,
   "metadata": {},
   "outputs": [],
   "source": [
    "def plot_bmap(\n",
    "    world: mdp2d.Experiment_2D,\n",
    "    idx_map=None,\n",
    "    p2idx_override=None,\n",
    "    tmatrix_func=tm.id_func,\n",
    "    start_state=0,\n",
    "    ax=None,\n",
    "):\n",
    "    result = ps.run_experiment(\n",
    "        experiment=world,\n",
    "        transition_matrix_func=tmatrix_func,\n",
    "        params=world.params,\n",
    "        gammas=gammas,\n",
    "        probs=probs,\n",
    "        start_state=start_state,\n",
    "    )\n",
    "\n",
    "    data = result.data\n",
    "\n",
    "    if idx_map:\n",
    "        new_data = np.zeros_like(data)\n",
    "        for fromm, to in idx_map.items():\n",
    "            new_data[data == fromm] = to\n",
    "        data = new_data\n",
    "\n",
    "    if ax is None:\n",
    "        fig, ax = plt.subplots(figsize=(4, 4))\n",
    "\n",
    "    ps.make_general_strategy_heatmap(\n",
    "        results=data,\n",
    "        probs=probs,\n",
    "        p2idx=p2idx_override,\n",
    "        title=f\"\",\n",
    "        ax=ax,\n",
    "        gammas=gammas,\n",
    "        annot=False,\n",
    "        ax_labels=False,\n",
    "        num_ticks=5,\n",
    "    )"
   ]
  },
  {
   "cell_type": "markdown",
   "metadata": {},
   "source": [
    "## Define BigSmall worlds\n"
   ]
  },
  {
   "cell_type": "code",
   "execution_count": 37,
   "metadata": {},
   "outputs": [],
   "source": [
    "big_small_world = bs.make_smallbig_experiment(\n",
    "        height=7,\n",
    "        width=7,\n",
    "        big_reward=300,\n",
    "        small_reward_frac=0.05)\n",
    "\n",
    "\n",
    "\n",
    "big_small_env = convert_to_environment(big_small_world)"
   ]
  },
  {
   "cell_type": "code",
   "execution_count": 38,
   "metadata": {},
   "outputs": [],
   "source": [
    "p2idx_override_bs = {\n",
    "    \"Close small R\": 1,\n",
    "    \"Far large R\": 0,\n",
    "}\n",
    "\n",
    "idx_map_bs = {0: 1, 1: 0}"
   ]
  },
  {
   "cell_type": "code",
   "execution_count": 39,
   "metadata": {},
   "outputs": [
    {
     "data": {
      "image/png": "[encoded data removed]",
      "text/plain": [
       "<Figure size 640x480 with 2 Axes>"
      ]
     },
     "metadata": {},
     "output_type": "display_data"
    }
   ],
   "source": [
    "fig, axs = plt.subplots(nrows=1, ncols=2)\n",
    "\n",
    "plot_environment(big_small_env.R_true.reshape(7,7), wall_states=[], ax= axs[0])\n",
    "plot_bmap(\n",
    "    world=big_small_world,\n",
    "    idx_map=idx_map_bs,\n",
    "    p2idx_override=p2idx_override_bs,\n",
    "    tmatrix_func=tm.id_func,\n",
    "    ax=axs[1],\n",
    ")"
   ]
  },
  {
   "cell_type": "markdown",
   "metadata": {},
   "source": [
    "## Create Custom Worlds\n",
    "\n",
    "Expectations\n",
    "- Specify N,M\n",
    "- Specify Reward for each state\n",
    "- Specify absorbing states\n",
    "- Insert wall states"
   ]
  },
  {
   "cell_type": "code",
   "execution_count": null,
   "metadata": {},
   "outputs": [],
   "source": [
    "wall_states = [4]\n",
    "T_agent = transition_matrix(N, M, p=agent_p, absorbing_states=goal_states)\n",
    "T_agent = insert_walls_into_T(T_agent, wall_indices=wall_states)"
   ]
  }
 ],
 "metadata": {
  "kernelspec": {
   "display_name": "Python 3",
   "language": "python",
   "name": "python3"
  },
  "language_info": {
   "codemirror_mode": {
    "name": "ipython",
    "version": 3
   },
   "file_extension": ".py",
   "mimetype": "text/x-python",
   "name": "python",
   "nbconvert_exporter": "python",
   "pygments_lexer": "ipython3",
   "version": "3.10.12"
  }
 },
 "nbformat": 4,
 "nbformat_minor": 2
}
