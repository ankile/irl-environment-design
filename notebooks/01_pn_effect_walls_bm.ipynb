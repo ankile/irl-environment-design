{
 "cells": [
  {
   "cell_type": "code",
   "execution_count": 1,
   "metadata": {},
   "outputs": [],
   "source": [
    "import os\n",
    "\n",
    "curr_dir = os.path.split(os.getcwd())[1]\n",
    "if curr_dir != \"irl-environment-design\":\n",
    "    os.chdir(\"..\")\n",
    "import numpy as np\n",
    "import matplotlib.pyplot as plt\n",
    "\n",
    "import src.atomic_worlds.big_small as bs\n",
    "import src.utils.param_sweep as ps\n",
    "import src.utils.transition_matrix as tm\n",
    "import src.utils.make_environment as make_env\n",
    "import src.worlds.mdp2d as mdp2d\n",
    "\n",
    "from src.utils.visualization import plot_environment\n",
    "from src.utils.make_environment import transition_matrix, Environment, insert_walls_into_T\n"
   ]
  },
  {
   "cell_type": "code",
   "execution_count": 2,
   "metadata": {},
   "outputs": [],
   "source": [
    "# Set the number of scales and gammas to use\n",
    "granularity = 20  # 5, 10, 20\n",
    "\n",
    "# Set up parameters to search over\n",
    "probs = np.linspace(0.4, 0.99, granularity)\n",
    "gammas = np.linspace(0.4, 0.99, granularity)"
   ]
  },
  {
   "cell_type": "code",
   "execution_count": 3,
   "metadata": {},
   "outputs": [],
   "source": [
    "def convert_to_environment(world: mdp2d.Experiment_2D):\n",
    "    \"\"\"Converts a world to an environment.\"\"\"\n",
    "    N = world.height\n",
    "    M = world.width\n",
    "\n",
    "    # R_dict = world.rewards_dict\n",
    "    # R = np.zeros(N * M)\n",
    "    # for key in R_dict:\n",
    "    #     R[key] = R_dict[key]\n",
    "    \n",
    "\n",
    "    T = world.mdp.T\n",
    "\n",
    "    environment = make_env.Environment(\n",
    "        N=N,\n",
    "        M=M,\n",
    "        T_true=T,\n",
    "        wall_states=[],\n",
    "        R_sample_mean=None,\n",
    "        start_state=0,\n",
    "        n_walls=0,\n",
    "        R_true=world.rewards,\n",
    "    )\n",
    "\n",
    "    return environment"
   ]
  },
  {
   "cell_type": "code",
   "execution_count": 4,
   "metadata": {},
   "outputs": [],
   "source": [
    "def plot_bmap(\n",
    "    world: mdp2d.Experiment_2D,\n",
    "    idx_map=None,\n",
    "    p2idx_override=None,\n",
    "    tmatrix_func=tm.id_func,\n",
    "    start_state=0,\n",
    "    ax=None,\n",
    "):\n",
    "    result = ps.run_experiment(\n",
    "        experiment=world,\n",
    "        transition_matrix_func=tmatrix_func,\n",
    "        params=world.params,\n",
    "        gammas=gammas,\n",
    "        probs=probs,\n",
    "        start_state=start_state,\n",
    "    )\n",
    "\n",
    "    data = result.data\n",
    "\n",
    "    if idx_map:\n",
    "        new_data = np.zeros_like(data)\n",
    "        for fromm, to in idx_map.items():\n",
    "            new_data[data == fromm] = to\n",
    "        data = new_data\n",
    "\n",
    "    if ax is None:\n",
    "        fig, ax = plt.subplots(figsize=(4, 4))\n",
    "\n",
    "    ps.make_general_strategy_heatmap(\n",
    "        results=data,\n",
    "        probs=probs,\n",
    "        p2idx=p2idx_override,\n",
    "        title=f\"\",\n",
    "        ax=ax,\n",
    "        gammas=gammas,\n",
    "        annot=False,\n",
    "        ax_labels=False,\n",
    "        num_ticks=5,\n",
    "    )\n",
    "    return result"
   ]
  },
  {
   "cell_type": "markdown",
   "metadata": {},
   "source": [
    "## Define BigSmall worlds\n"
   ]
  },
  {
   "cell_type": "code",
   "execution_count": 5,
   "metadata": {},
   "outputs": [],
   "source": [
    "# height = 3\n",
    "# width = 7\n",
    "\n",
    "# big_small_world = bs.make_smallbig_experiment(\n",
    "#         height=height,\n",
    "#         width=width,\n",
    "#         big_reward=100,\n",
    "#         small_reward_frac=0.5)\n",
    "\n",
    "\n",
    "\n",
    "# big_small_env = convert_to_environment(big_small_world)"
   ]
  },
  {
   "cell_type": "code",
   "execution_count": 6,
   "metadata": {},
   "outputs": [],
   "source": [
    "p2idx_override_bs = {\n",
    "    \"Close small R\": 1,\n",
    "    \"Far large R\": 0,\n",
    "}\n",
    "\n",
    "idx_map_bs = {0: 1, 1: 0}"
   ]
  },
  {
   "cell_type": "code",
   "execution_count": 7,
   "metadata": {},
   "outputs": [],
   "source": [
    "from src.worlds.mdp2d import Experiment_2D\n",
    "\n",
    "def smallbig_reward(\n",
    "    height: int,\n",
    "    width: int,\n",
    "    big_reward: float,\n",
    "    small_reward_frac: float,\n",
    ") -> dict:\n",
    "    \"\"\"\n",
    "    Places the small and big rewards in the bottom-left and bottom-right corners, respectively.\n",
    "\n",
    "    returns a dictionary of rewards for each state in the gridworld.\n",
    "    \"\"\"\n",
    "\n",
    "    reward_dict = {}\n",
    "\n",
    "    small_reward = big_reward * small_reward_frac\n",
    "\n",
    "    # Put small reward in lower left corner\n",
    "    small_reward_state = (height - 1) * width\n",
    "    reward_dict[small_reward_state] = small_reward\n",
    "\n",
    "    # Put big reward in lower right corner\n",
    "    big_reward_state = height * width - 1\n",
    "    reward_dict[big_reward_state] = big_reward\n",
    "\n",
    "    return reward_dict\n",
    "\n",
    "def make_world(\n",
    "    height: int,\n",
    "    width: int,\n",
    "    rewards: np.array,\n",
    "    absorbing_states: list,\n",
    "    wall_states: list\n",
    ") -> Experiment_2D:\n",
    "\n",
    "    experiment = Experiment_2D(\n",
    "        height,\n",
    "        width,\n",
    "        rewards = rewards,\n",
    "        absorbing_states = absorbing_states,\n",
    "        wall_states=wall_states\n",
    "    )\n",
    "\n",
    "    return experiment"
   ]
  },
  {
   "cell_type": "code",
   "execution_count": 8,
   "metadata": {},
   "outputs": [],
   "source": [
    "height = 5\n",
    "width = 6\n",
    "rewards = np.zeros((height, width))\n",
    "rewards[2,2] = 2\n",
    "rewards[3,4] = 4\n",
    "rewards = rewards.flatten()\n",
    "absorbing_states = np.where(rewards > 0)[0]\n",
    "wall_states = [4,5,7]\n",
    "\n",
    "custom_world = make_world(height=height,\n",
    "                          width=width,\n",
    "                          rewards=rewards,\n",
    "                          absorbing_states=absorbing_states,\n",
    "                          wall_states=wall_states)"
   ]
  },
  {
   "cell_type": "code",
   "execution_count": 9,
   "metadata": {},
   "outputs": [
    {
     "name": "stdout",
     "output_type": "stream",
     "text": [
      "Num different policies: 0\n",
      "[]\n"
     ]
    },
    {
     "data": {
      "image/png": "[encoded data removed]",
      "text/plain": [
       "<Figure size 640x480 with 2 Axes>"
      ]
     },
     "metadata": {},
     "output_type": "display_data"
    }
   ],
   "source": [
    "fig, axs = plt.subplots(nrows=1, ncols=2)\n",
    "\n",
    "new_env = convert_to_environment(custom_world)\n",
    "\n",
    "plot_environment(new_env.R_true.reshape(height, width), wall_states=wall_states, ax= axs[0])\n",
    "out = plot_bmap(\n",
    "    world=custom_world,\n",
    "    idx_map=idx_map_bs,\n",
    "    p2idx_override=p2idx_override_bs,\n",
    "    tmatrix_func=tm.id_func,\n",
    "    ax=axs[1],\n",
    ")"
   ]
  },
  {
   "cell_type": "code",
   "execution_count": 11,
   "metadata": {},
   "outputs": [
    {
     "data": {
      "text/plain": [
       "ExperimentResult(data=array([[0, 0, 0, 0, 0, 0, 0, 0, 0, 0, 0, 0, 0, 0, 0, 0, 0, 1, 1, 1],\n",
       "       [0, 0, 0, 0, 0, 0, 0, 0, 0, 0, 0, 0, 0, 0, 0, 0, 1, 1, 1, 1],\n",
       "       [0, 0, 0, 0, 0, 0, 0, 0, 0, 0, 0, 0, 0, 0, 0, 1, 1, 1, 1, 1],\n",
       "       [0, 0, 0, 0, 0, 0, 0, 0, 0, 0, 0, 0, 0, 0, 0, 1, 1, 1, 1, 1],\n",
       "       [0, 0, 0, 0, 0, 0, 0, 0, 0, 0, 0, 0, 0, 0, 1, 1, 1, 1, 1, 1],\n",
       "       [0, 0, 0, 0, 0, 0, 0, 0, 0, 0, 0, 0, 0, 1, 1, 1, 1, 1, 1, 1],\n",
       "       [0, 0, 0, 0, 0, 0, 0, 0, 0, 0, 0, 0, 1, 1, 1, 1, 1, 1, 1, 1],\n",
       "       [0, 0, 0, 0, 0, 0, 0, 0, 0, 0, 0, 1, 1, 1, 1, 1, 1, 1, 1, 1],\n",
       "       [0, 0, 0, 0, 0, 0, 0, 0, 0, 0, 0, 1, 1, 1, 1, 1, 1, 1, 1, 1],\n",
       "       [0, 0, 0, 0, 0, 0, 0, 0, 0, 0, 1, 1, 1, 1, 1, 1, 1, 1, 1, 1],\n",
       "       [0, 0, 0, 0, 0, 0, 0, 0, 0, 2, 1, 1, 1, 1, 1, 1, 1, 1, 1, 1],\n",
       "       [0, 0, 0, 0, 0, 0, 0, 0, 2, 1, 1, 1, 1, 1, 1, 1, 1, 1, 1, 1],\n",
       "       [0, 0, 0, 0, 0, 0, 0, 0, 1, 1, 1, 1, 1, 1, 1, 1, 1, 1, 1, 1],\n",
       "       [0, 0, 0, 0, 0, 0, 0, 2, 1, 1, 1, 1, 1, 1, 1, 1, 1, 1, 1, 1],\n",
       "       [0, 0, 0, 0, 0, 0, 2, 1, 1, 1, 1, 1, 1, 1, 1, 1, 1, 1, 1, 1],\n",
       "       [0, 0, 0, 0, 0, 0, 1, 1, 1, 1, 1, 1, 1, 1, 1, 1, 1, 1, 1, 1],\n",
       "       [0, 0, 0, 0, 0, 2, 1, 1, 1, 1, 1, 1, 1, 1, 1, 1, 1, 1, 1, 1],\n",
       "       [0, 0, 0, 0, 0, 1, 1, 1, 1, 1, 1, 1, 1, 1, 1, 1, 1, 1, 1, 1],\n",
       "       [0, 0, 0, 0, 2, 1, 1, 1, 1, 1, 1, 1, 1, 1, 1, 1, 1, 1, 1, 1],\n",
       "       [0, 0, 0, 0, 1, 1, 1, 1, 1, 1, 1, 1, 1, 1, 1, 1, 1, 1, 1, 1]],\n",
       "      dtype=int32), p2idx={'RRDDRL': 0, 'RRDDRRDRL': 1, 'RRDDRDRRL': 2}, probs=array([0.4       , 0.43105263, 0.46210526, 0.49315789, 0.52421053,\n",
       "       0.55526316, 0.58631579, 0.61736842, 0.64842105, 0.67947368,\n",
       "       0.71052632, 0.74157895, 0.77263158, 0.80368421, 0.83473684,\n",
       "       0.86578947, 0.89684211, 0.92789474, 0.95894737, 0.99      ]))"
      ]
     },
     "execution_count": 11,
     "metadata": {},
     "output_type": "execute_result"
    }
   ],
   "source": [
    "out"
   ]
  },
  {
   "cell_type": "markdown",
   "metadata": {},
   "source": [
    "## Create Custom Worlds\n",
    "\n",
    "Expectations\n",
    "- Specify N,M\n",
    "- Specify Reward for each state\n",
    "- Specify absorbing states\n",
    "- Insert wall states"
   ]
  }
 ],
 "metadata": {
  "kernelspec": {
   "display_name": "Python 3",
   "language": "python",
   "name": "python3"
  },
  "language_info": {
   "codemirror_mode": {
    "name": "ipython",
    "version": 3
   },
   "file_extension": ".py",
   "mimetype": "text/x-python",
   "name": "python",
   "nbconvert_exporter": "python",
   "pygments_lexer": "ipython3",
   "version": "3.10.12"
  }
 },
 "nbformat": 4,
 "nbformat_minor": 2
}
