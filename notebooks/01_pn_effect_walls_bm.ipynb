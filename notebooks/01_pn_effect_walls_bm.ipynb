{
 "cells": [
  {
   "cell_type": "code",
   "execution_count": 1,
   "metadata": {},
   "outputs": [],
   "source": [
    "import os\n",
    "\n",
    "curr_dir = os.path.split(os.getcwd())[1]\n",
    "if curr_dir != \"irl-environment-design\":\n",
    "    os.chdir(\"..\")\n",
    "import numpy as np\n",
    "import matplotlib.pyplot as plt\n",
    "\n",
    "import src.atomic_worlds.big_small as bs\n",
    "import src.utils.param_sweep as ps\n",
    "import src.utils.transition_matrix as tm\n",
    "import src.utils.make_environment as make_env\n",
    "import src.worlds.mdp2d as mdp2d\n",
    "\n",
    "from src.utils.visualization import plot_environment\n"
   ]
  },
  {
   "cell_type": "code",
   "execution_count": 2,
   "metadata": {},
   "outputs": [],
   "source": [
    "# Set the number of scales and gammas to use\n",
    "granularity = 20  # 5, 10, 20\n",
    "\n",
    "# Set up parameters to search over\n",
    "probs = np.linspace(0.4, 0.99, granularity)\n",
    "gammas = np.linspace(0.4, 0.99, granularity)"
   ]
  },
  {
   "cell_type": "code",
   "execution_count": 3,
   "metadata": {},
   "outputs": [],
   "source": [
    "def convert_to_environment(world: mdp2d.Experiment_2D):\n",
    "    \"\"\"Converts a world to an environment.\"\"\"\n",
    "    N = world.height\n",
    "    M = world.width\n",
    "\n",
    "    # R_dict = world.rewards_dict\n",
    "    # R = np.zeros(N * M)\n",
    "    # for key in R_dict:\n",
    "    #     R[key] = R_dict[key]\n",
    "    \n",
    "\n",
    "    T = world.mdp.T\n",
    "\n",
    "    environment = make_env.Environment(\n",
    "        N=N,\n",
    "        M=M,\n",
    "        T_true=T,\n",
    "        wall_states=[],\n",
    "        R_sample_mean=None,\n",
    "        start_state=0,\n",
    "        n_walls=0,\n",
    "        R_true=world.rewards,\n",
    "    )\n",
    "\n",
    "    return environment"
   ]
  },
  {
   "cell_type": "code",
   "execution_count": 4,
   "metadata": {},
   "outputs": [],
   "source": [
    "def plot_bmap(\n",
    "    world: mdp2d.Experiment_2D,\n",
    "    idx_map=None,\n",
    "    p2idx_override=None,\n",
    "    tmatrix_func=tm.id_func,\n",
    "    start_state=0,\n",
    "    ax=None,\n",
    "):\n",
    "    result = ps.run_experiment(\n",
    "        experiment=world,\n",
    "        transition_matrix_func=tmatrix_func,\n",
    "        params=world.params,\n",
    "        gammas=gammas,\n",
    "        probs=probs,\n",
    "        start_state=start_state,\n",
    "    )\n",
    "\n",
    "    data = result.data\n",
    "\n",
    "    if idx_map:\n",
    "        new_data = np.zeros_like(data)\n",
    "        for fromm, to in idx_map.items():\n",
    "            new_data[data == fromm] = to\n",
    "        data = new_data\n",
    "\n",
    "    if ax is None:\n",
    "        fig, ax = plt.subplots(figsize=(4, 4))\n",
    "\n",
    "    ps.make_general_strategy_heatmap(\n",
    "        results=data,\n",
    "        probs=probs,\n",
    "        p2idx=p2idx_override,\n",
    "        title=f\"\",\n",
    "        ax=ax,\n",
    "        gammas=gammas,\n",
    "        annot=False,\n",
    "        ax_labels=False,\n",
    "        num_ticks=5,\n",
    "        legend=False\n",
    "    )\n",
    "    return result"
   ]
  },
  {
   "cell_type": "markdown",
   "metadata": {},
   "source": [
    "## Define Custom worlds\n"
   ]
  },
  {
   "cell_type": "code",
   "execution_count": 5,
   "metadata": {},
   "outputs": [],
   "source": [
    "from src.worlds.mdp2d import Experiment_2D\n",
    "\n",
    "def make_world(\n",
    "    height: int,\n",
    "    width: int,\n",
    "    rewards: np.array,\n",
    "    absorbing_states: list,\n",
    "    wall_states: list\n",
    ") -> Experiment_2D:\n",
    "\n",
    "    experiment = Experiment_2D(\n",
    "        height,\n",
    "        width,\n",
    "        rewards = rewards,\n",
    "        absorbing_states = absorbing_states,\n",
    "        wall_states=wall_states\n",
    "    )\n",
    "\n",
    "    return experiment"
   ]
  },
  {
   "cell_type": "code",
   "execution_count": 6,
   "metadata": {},
   "outputs": [],
   "source": [
    "height = 5\n",
    "width = 6\n",
    "rewards = np.zeros((height, width))\n",
    "wall_states = np.zeros((height, width))\n",
    "\n",
    "rewards[4,0] = 2\n",
    "rewards[4,5] = 4\n",
    "rewards = rewards.flatten()\n",
    "\n",
    "absorbing_states = np.where(rewards > 0)[0]\n",
    "\n",
    "wall_states[2,1] = 1\n",
    "wall_states = wall_states.flatten()\n",
    "wall_states = np.where(wall_states > 0)[0]\n",
    "\n",
    "\n",
    "custom_world = make_world(height=height,\n",
    "                          width=width,\n",
    "                          rewards=rewards,\n",
    "                          absorbing_states=absorbing_states,\n",
    "                          wall_states=wall_states)"
   ]
  },
  {
   "cell_type": "code",
   "execution_count": 7,
   "metadata": {},
   "outputs": [
    {
     "name": "stdout",
     "output_type": "stream",
     "text": [
      "Num different policies: 0\n",
      "[]\n"
     ]
    },
    {
     "data": {
      "image/png": "[encoded data removed]",
      "text/plain": [
       "<Figure size 640x480 with 2 Axes>"
      ]
     },
     "metadata": {},
     "output_type": "display_data"
    }
   ],
   "source": [
    "fig, axs = plt.subplots(nrows=1, ncols=2)\n",
    "\n",
    "new_env = convert_to_environment(custom_world)\n",
    "\n",
    "plot_environment(new_env.R_true.reshape(height, width), wall_states=wall_states, ax= axs[0])\n",
    "out = plot_bmap(\n",
    "    world=custom_world,\n",
    "    # idx_map=idx_map_bs,\n",
    "    # p2idx_override=p2idx_override_bs,\n",
    "    # tmatrix_func=tm.id_func,\n",
    "    ax=axs[1],\n",
    ")"
   ]
  },
  {
   "cell_type": "code",
   "execution_count": 8,
   "metadata": {},
   "outputs": [
    {
     "data": {
      "text/plain": [
       "ExperimentResult(data=array([[0, 0, 0, 0, 0, 0, 0, 0, 0, 0, 0, 0, 0, 0, 0, 0, 0, 0, 0, 0],\n",
       "       [0, 0, 0, 0, 0, 0, 0, 0, 0, 0, 0, 0, 0, 0, 0, 0, 0, 0, 0, 0],\n",
       "       [0, 0, 0, 0, 0, 0, 0, 0, 0, 0, 0, 0, 0, 0, 0, 0, 0, 0, 0, 0],\n",
       "       [0, 0, 0, 0, 0, 0, 0, 0, 0, 0, 0, 0, 0, 0, 0, 0, 0, 0, 0, 1],\n",
       "       [0, 0, 0, 0, 0, 0, 0, 0, 0, 0, 0, 0, 0, 0, 0, 0, 0, 0, 0, 1],\n",
       "       [0, 0, 0, 0, 0, 0, 0, 0, 0, 0, 0, 0, 0, 0, 0, 0, 0, 0, 0, 1],\n",
       "       [0, 0, 0, 0, 0, 0, 0, 0, 0, 0, 0, 0, 0, 0, 0, 0, 0, 0, 1, 1],\n",
       "       [0, 0, 0, 0, 0, 0, 0, 0, 0, 0, 0, 0, 0, 0, 0, 0, 0, 0, 1, 1],\n",
       "       [0, 0, 0, 0, 0, 0, 0, 0, 0, 0, 0, 0, 0, 0, 0, 0, 0, 0, 1, 1],\n",
       "       [0, 0, 0, 0, 0, 0, 0, 0, 0, 0, 0, 0, 0, 0, 0, 0, 0, 0, 1, 1],\n",
       "       [0, 0, 0, 0, 0, 0, 0, 0, 0, 0, 0, 0, 0, 0, 0, 0, 0, 1, 1, 1],\n",
       "       [0, 0, 0, 0, 0, 0, 0, 0, 0, 0, 0, 0, 0, 0, 0, 0, 0, 1, 1, 1],\n",
       "       [0, 0, 0, 0, 0, 0, 0, 0, 0, 0, 0, 0, 0, 0, 0, 0, 0, 1, 1, 1],\n",
       "       [0, 0, 0, 0, 0, 0, 0, 0, 0, 0, 0, 0, 0, 0, 0, 0, 1, 1, 1, 1],\n",
       "       [0, 0, 0, 0, 0, 0, 0, 0, 0, 0, 0, 0, 0, 0, 0, 0, 1, 1, 1, 1],\n",
       "       [0, 0, 0, 0, 0, 0, 0, 0, 0, 0, 0, 0, 0, 0, 0, 0, 1, 1, 1, 1],\n",
       "       [0, 0, 0, 0, 0, 0, 0, 0, 0, 0, 0, 0, 0, 0, 0, 0, 1, 1, 1, 1],\n",
       "       [0, 0, 0, 0, 0, 0, 0, 0, 0, 0, 0, 0, 0, 0, 0, 1, 1, 1, 1, 1],\n",
       "       [0, 0, 0, 0, 0, 0, 0, 0, 0, 0, 0, 0, 0, 0, 0, 1, 1, 1, 1, 1],\n",
       "       [0, 0, 0, 0, 0, 0, 0, 0, 0, 0, 0, 0, 0, 0, 0, 1, 1, 1, 1, 1]],\n",
       "      dtype=int32), p2idx={'DDDDL': 0, 'DDDDRRRRRR': 1}, probs=array([0.4       , 0.43105263, 0.46210526, 0.49315789, 0.52421053,\n",
       "       0.55526316, 0.58631579, 0.61736842, 0.64842105, 0.67947368,\n",
       "       0.71052632, 0.74157895, 0.77263158, 0.80368421, 0.83473684,\n",
       "       0.86578947, 0.89684211, 0.92789474, 0.95894737, 0.99      ]))"
      ]
     },
     "execution_count": 8,
     "metadata": {},
     "output_type": "execute_result"
    }
   ],
   "source": [
    "out"
   ]
  },
  {
   "cell_type": "markdown",
   "metadata": {},
   "source": [
    "## Example of a Different BM"
   ]
  },
  {
   "cell_type": "code",
   "execution_count": 9,
   "metadata": {},
   "outputs": [],
   "source": [
    "def utility_func(c, a):\n",
    "    '''\n",
    "    Models an exponential utility function from Economics for consumption c and risk-appetite a.\n",
    "    '''\n",
    "\n",
    "    if a==0:\n",
    "        return c\n",
    "    else:\n",
    "        return (1-np.exp(-a*c))/a"
   ]
  },
  {
   "cell_type": "code",
   "execution_count": 34,
   "metadata": {},
   "outputs": [],
   "source": [
    "def cobb_douglas(s, a, b, n_rows, n_cols):\n",
    "    '''\n",
    "    Models Cobb Douglas preferences\n",
    "    '''\n",
    "    row_state = s//n_rows\n",
    "    col_state = s%n_cols\n",
    "    \n",
    "    return (row_state+1)**a*(col_state+1)**b "
   ]
  },
  {
   "cell_type": "code",
   "execution_count": 49,
   "metadata": {},
   "outputs": [],
   "source": [
    "height = 5\n",
    "width = 6\n",
    "rewards = np.zeros((height, width))\n",
    "wall_states = np.zeros((height, width))\n",
    "\n",
    "rewards = rewards.flatten()\n",
    "# rewards = [utility_func(state, a=-0.2) for state in np.arange(height*width)]\n",
    "rewards = [cobb_douglas(state, a=0.9, b=0.2, n_rows=height, n_cols=width) for state in np.arange(height*width)]\n",
    "\n",
    "rewards = np.array(rewards)\n",
    "absorbing_states = [height*width-1]\n",
    "\n",
    "\n",
    "wall_states = wall_states.flatten()\n",
    "wall_states = np.where(wall_states > 0)[0]"
   ]
  },
  {
   "cell_type": "code",
   "execution_count": 50,
   "metadata": {},
   "outputs": [],
   "source": [
    "custom_world = make_world(height=height,\n",
    "                          width=width,\n",
    "                          rewards=rewards,\n",
    "                          absorbing_states=absorbing_states,\n",
    "                          wall_states=wall_states)"
   ]
  },
  {
   "cell_type": "code",
   "execution_count": 51,
   "metadata": {},
   "outputs": [
    {
     "name": "stdout",
     "output_type": "stream",
     "text": [
      "Num different policies: 0\n",
      "[]\n"
     ]
    },
    {
     "data": {
      "image/png": "[encoded data removed]",
      "text/plain": [
       "<Figure size 1000x1000 with 2 Axes>"
      ]
     },
     "metadata": {},
     "output_type": "display_data"
    }
   ],
   "source": [
    "fig, axs = plt.subplots(nrows=1, ncols=2, figsize=(10,10))\n",
    "\n",
    "new_env = convert_to_environment(custom_world)\n",
    "\n",
    "plot_environment(new_env.R_true.reshape(height, width), wall_states=wall_states, ax= axs[0])\n",
    "out = plot_bmap(\n",
    "    world=custom_world,\n",
    "    # idx_map=idx_map_bs,\n",
    "    # p2idx_override=p2idx_override_bs,\n",
    "    # tmatrix_func=tm.id_func,\n",
    "    ax=axs[1],\n",
    ")"
   ]
  }
 ],
 "metadata": {
  "kernelspec": {
   "display_name": "Python 3",
   "language": "python",
   "name": "python3"
  },
  "language_info": {
   "codemirror_mode": {
    "name": "ipython",
    "version": 3
   },
   "file_extension": ".py",
   "mimetype": "text/x-python",
   "name": "python",
   "nbconvert_exporter": "python",
   "pygments_lexer": "ipython3",
   "version": "3.10.12"
  }
 },
 "nbformat": 4,
 "nbformat_minor": 2
}
