{
 "cells": [
  {
   "cell_type": "code",
   "execution_count": 1,
   "metadata": {},
   "outputs": [],
   "source": [
    "import os\n",
    "\n",
    "curr_dir = os.path.split(os.getcwd())[1]\n",
    "if curr_dir != \"irl-environment-design\":\n",
    "    os.chdir(\"..\")"
   ]
  },
  {
   "cell_type": "code",
   "execution_count": 2,
   "metadata": {},
   "outputs": [],
   "source": [
    "import numpy as np\n",
    "\n",
    "from src.utils.make_environment import (\n",
    "    transition_matrix,\n",
    "    Environment,\n",
    "    insert_walls_into_T,\n",
    ")\n",
    "\n",
    "from src.utils.constants import ParamTuple\n",
    "\n",
    "np.set_printoptions(linewidth=160, precision=2)\n",
    "\n",
    "from src.utils.environment_design import EnvironmentDesign"
   ]
  },
  {
   "cell_type": "markdown",
   "metadata": {},
   "source": [
    "### Create Environment"
   ]
  },
  {
   "cell_type": "code",
   "execution_count": 3,
   "metadata": {},
   "outputs": [],
   "source": [
    "# 0. Setup\n",
    "## 0.2 Setup the environment\n",
    "N, M = 7,7\n",
    "\n",
    "# TODO describe world\n",
    "agent_R = np.zeros((N, M))\n",
    "agent_R[N-1, 0] = 1\n",
    "agent_R[N-1, M-1] = 3\n",
    "\n",
    "\n",
    "\n",
    "# Start by making the agent we want to learn the policy of\n",
    "agent_p = 0.7\n",
    "agent_gamma = 0.6\n",
    "p_true=0.7\n",
    "\n",
    "agent_R = agent_R.flatten()\n",
    "goal_states = np.where(agent_R != 0)[0]\n",
    "\n",
    "true_params = ParamTuple(agent_p, agent_gamma, agent_R)\n",
    "\n",
    "wall_states = [14] #TODO: why do we need this\n",
    "\n",
    "T_true = transition_matrix(N, M, p=p_true, absorbing_states=goal_states)\n",
    "T_True = insert_walls_into_T(T=T_true, wall_indices=wall_states)\n",
    "\n",
    "big_small = Environment(\n",
    "    N=N,\n",
    "    M=M,\n",
    "    T_true=T_true,\n",
    "    wall_states=wall_states,\n",
    "    R_true=agent_R,\n",
    "    start_state=0,\n",
    "    n_walls=None,\n",
    "    goal_states=goal_states\n",
    ")"
   ]
  },
  {
   "cell_type": "markdown",
   "metadata": {},
   "source": [
    "### Environment Design"
   ]
  },
  {
   "cell_type": "code",
   "execution_count": 4,
   "metadata": {},
   "outputs": [],
   "source": [
    "env_design = EnvironmentDesign(base_environment=big_small, user_params=true_params, learn_what = \"gamma, T\")"
   ]
  },
  {
   "cell_type": "code",
   "execution_count": 5,
   "metadata": {},
   "outputs": [
    {
     "name": "stdout",
     "output_type": "stream",
     "text": [
      "Started episode 0.\n",
      "Finished episode 0.\n",
      "Started episode 1.\n"
     ]
    },
    {
     "name": "stderr",
     "output_type": "stream",
     "text": [
      "0it [00:00, ?it/s]"
     ]
    },
    {
     "name": "stderr",
     "output_type": "stream",
     "text": [
      "12it [00:00, 16.77it/s]\n"
     ]
    },
    {
     "name": "stdout",
     "output_type": "stream",
     "text": [
      "Mean Parameters: ParamTuple(p=0.699267497213196, gamma=0.6351878260806928, R=None)\n",
      "Computed Region of Interest. Size = 0.49\n"
     ]
    },
    {
     "name": "stderr",
     "output_type": "stream",
     "text": [
      "/home/paul/Desktop/Uni/classes/CS282R/irl-environment-design/src/utils/make_candidate_environments.py:142: UserWarning: To copy construct from a tensor, it is recommended to use sourceTensor.clone().detach() or sourceTensor.clone().detach().requires_grad_(True), rather than torch.tensor(sourceTensor).\n",
      "  R = torch.tensor(R_init, dtype=torch.float32)\n"
     ]
    },
    {
     "name": "stdout",
     "output_type": "stream",
     "text": [
      "Finished BM Search. Entropy: 1.053628543870861.\n",
      "Finished episode 1.\n",
      "Started episode 2.\n"
     ]
    },
    {
     "name": "stderr",
     "output_type": "stream",
     "text": [
      "12it [00:00, 27.94it/s]\n"
     ]
    },
    {
     "name": "stdout",
     "output_type": "stream",
     "text": [
      "Mean Parameters: ParamTuple(p=0.6855105480762087, gamma=0.6026901383809783, R=None)\n",
      "Computed Region of Interest. Size = 0.37\n",
      "Finished BM Search. Entropy: 1.0172311055008865.\n",
      "Finished episode 2.\n",
      "Started episode 3.\n"
     ]
    },
    {
     "name": "stderr",
     "output_type": "stream",
     "text": [
      "12it [00:00, 24.73it/s]\n"
     ]
    },
    {
     "name": "stdout",
     "output_type": "stream",
     "text": [
      "Mean Parameters: ParamTuple(p=0.67469370379403, gamma=0.5944835499046982, R=None)\n",
      "Computed Region of Interest. Size = 0.28\n",
      "Finished BM Search. Entropy: 1.0601800830077508.\n",
      "Finished episode 3.\n",
      "Started episode 4.\n"
     ]
    },
    {
     "name": "stderr",
     "output_type": "stream",
     "text": [
      "12it [00:00, 24.43it/s]\n"
     ]
    },
    {
     "name": "stdout",
     "output_type": "stream",
     "text": [
      "Mean Parameters: ParamTuple(p=0.6797466732449302, gamma=0.5866568875248885, R=None)\n",
      "Computed Region of Interest. Size = 0.22\n",
      "Finished BM Search. Entropy: 1.0861979723945263.\n",
      "Finished episode 4.\n",
      "Started episode 5.\n"
     ]
    },
    {
     "name": "stderr",
     "output_type": "stream",
     "text": [
      "12it [00:00, 23.98it/s]\n"
     ]
    },
    {
     "name": "stdout",
     "output_type": "stream",
     "text": [
      "Mean Parameters: ParamTuple(p=0.678040546223872, gamma=0.5788475553840228, R=None)\n",
      "Computed Region of Interest. Size = 0.17\n",
      "Finished BM Search. Entropy: 1.0740922213659423.\n",
      "Finished episode 5.\n",
      "Started episode 6.\n"
     ]
    },
    {
     "name": "stderr",
     "output_type": "stream",
     "text": [
      "12it [00:00, 26.59it/s]\n"
     ]
    },
    {
     "name": "stdout",
     "output_type": "stream",
     "text": [
      "Mean Parameters: ParamTuple(p=0.6861827890604026, gamma=0.5713261693015202, R=None)\n",
      "Computed Region of Interest. Size = 0.14\n",
      "Finished BM Search. Entropy: 1.0397207708399179.\n",
      "Finished episode 6.\n",
      "Started episode 7.\n"
     ]
    },
    {
     "name": "stderr",
     "output_type": "stream",
     "text": [
      "12it [00:00, 28.93it/s]\n"
     ]
    },
    {
     "name": "stdout",
     "output_type": "stream",
     "text": [
      "Mean Parameters: ParamTuple(p=0.6807824707609803, gamma=0.5712518034336235, R=None)\n",
      "Computed Region of Interest. Size = 0.11\n",
      "Finished BM Search. Entropy: 1.0821955300387673.\n",
      "Finished episode 7.\n",
      "Started episode 8.\n"
     ]
    },
    {
     "name": "stderr",
     "output_type": "stream",
     "text": [
      "12it [00:00, 29.07it/s]\n"
     ]
    },
    {
     "name": "stdout",
     "output_type": "stream",
     "text": [
      "Mean Parameters: ParamTuple(p=0.6760841064988888, gamma=0.5803103718810232, R=None)\n",
      "Computed Region of Interest. Size = 0.09\n",
      "Finished BM Search. Entropy: 1.0733942812811266.\n",
      "Finished episode 8.\n",
      "Started episode 9.\n"
     ]
    },
    {
     "name": "stderr",
     "output_type": "stream",
     "text": [
      "12it [00:00, 34.56it/s]\n"
     ]
    },
    {
     "name": "stdout",
     "output_type": "stream",
     "text": [
      "Mean Parameters: ParamTuple(p=0.6707253994624343, gamma=0.5723687183450832, R=None)\n",
      "Computed Region of Interest. Size = 0.08\n",
      "Finished BM Search. Entropy: 1.0361987848192837.\n",
      "Finished episode 9.\n",
      "Started episode 10.\n"
     ]
    },
    {
     "name": "stderr",
     "output_type": "stream",
     "text": [
      "12it [00:00, 31.97it/s]\n"
     ]
    },
    {
     "name": "stdout",
     "output_type": "stream",
     "text": [
      "Mean Parameters: ParamTuple(p=0.6785835586656138, gamma=0.5698860902498317, R=None)\n",
      "Computed Region of Interest. Size = 0.06\n",
      "Finished BM Search. Entropy: 0.9649629230074277.\n",
      "Finished episode 10.\n",
      "Started episode 11.\n"
     ]
    },
    {
     "name": "stderr",
     "output_type": "stream",
     "text": [
      "12it [00:00, 39.96it/s]\n"
     ]
    },
    {
     "name": "stdout",
     "output_type": "stream",
     "text": [
      "Mean Parameters: ParamTuple(p=0.6785708523399625, gamma=0.5678018925289597, R=None)\n",
      "Computed Region of Interest. Size = 0.06\n",
      "Finished BM Search. Entropy: 0.9743147528693494.\n",
      "Finished episode 11.\n",
      "Started episode 12.\n"
     ]
    },
    {
     "name": "stderr",
     "output_type": "stream",
     "text": [
      "12it [00:00, 40.65it/s]\n"
     ]
    },
    {
     "name": "stdout",
     "output_type": "stream",
     "text": [
      "Mean Parameters: ParamTuple(p=0.6854090622322562, gamma=0.56597050290469, R=None)\n",
      "Computed Region of Interest. Size = 0.05\n",
      "Finished BM Search. Entropy: 0.9556998911125343.\n",
      "Finished episode 12.\n",
      "Started episode 13.\n"
     ]
    },
    {
     "name": "stderr",
     "output_type": "stream",
     "text": [
      "12it [00:00, 46.36it/s]\n"
     ]
    },
    {
     "name": "stdout",
     "output_type": "stream",
     "text": [
      "Mean Parameters: ParamTuple(p=0.6939122434617947, gamma=0.5592130498940604, R=None)\n",
      "Computed Region of Interest. Size = 0.04\n",
      "Finished BM Search. Entropy: 1.0114042647073518.\n",
      "Finished episode 13.\n",
      "Started episode 14.\n"
     ]
    },
    {
     "name": "stderr",
     "output_type": "stream",
     "text": [
      "12it [00:00, 46.90it/s]\n"
     ]
    },
    {
     "name": "stdout",
     "output_type": "stream",
     "text": [
      "Mean Parameters: ParamTuple(p=0.69837303930994, gamma=0.5621870031795547, R=None)\n",
      "Computed Region of Interest. Size = 0.03\n",
      "Finished BM Search. Entropy: 1.0549201679861442.\n",
      "Finished episode 14.\n"
     ]
    }
   ],
   "source": [
    "candidate_environments_args = {}\n",
    "# candidate_environments_args[\"n_environments\"] = 50\n",
    "candidate_environments_args[\"generate_how\"] = \"entropy_BM\"\n",
    "# candidate_environments_args[\"n_walls\"] = 5\n",
    "\n",
    "\n",
    "env_design.run_n_episodes(n_episodes=15,\n",
    "                          candidate_environments_args=candidate_environments_args,\n",
    "                          verbose=True)\n",
    "\n",
    "# env_design.save(\"big_small\")"
   ]
  },
  {
   "cell_type": "markdown",
   "metadata": {},
   "source": [
    "## Multi-run experiments"
   ]
  },
  {
   "cell_type": "code",
   "execution_count": null,
   "metadata": {},
   "outputs": [],
   "source": []
  },
  {
   "cell_type": "markdown",
   "metadata": {},
   "source": [
    "### Inference - load observations and initialize posterior inference class."
   ]
  },
  {
   "cell_type": "code",
   "execution_count": 6,
   "metadata": {},
   "outputs": [],
   "source": [
    "import pickle\n",
    "\n",
    "experiment_1_path = os.path.join(\"checkpoints\", \"big_small\", \"26.04.2024\", \"09:09:21\")\n",
    "experiment_2_path = os.path.join(\"checkpoints\", \"big_small\", \"26.04.2024\", \"10:51:27\")\n",
    "experiment_3_path = os.path.join(\"checkpoints\", \"big_small\", \"26.04.2024\", \"11:09:02\")\n",
    "\n",
    "\n",
    "def load_file(file_name):\n",
    "    with open(file_name, 'rb') as file:\n",
    "        data = pickle.load(file)\n",
    "    return data\n",
    "\n",
    "# Example usage\n",
    "big_small_experiment_1 = load_file(experiment_1_path)\n",
    "big_small_experiment_2 = load_file(experiment_2_path)\n",
    "big_small_experiment_3 = load_file(experiment_3_path)\n"
   ]
  },
  {
   "cell_type": "code",
   "execution_count": 7,
   "metadata": {},
   "outputs": [],
   "source": [
    "diags_1 = big_small_experiment_1[\"diagnostics\"]\n",
    "diags_2 = big_small_experiment_2[\"diagnostics\"]\n",
    "diags_3 = big_small_experiment_3[\"diagnostics\"]"
   ]
  },
  {
   "cell_type": "markdown",
   "metadata": {},
   "source": [
    "## Plot Diagnostics"
   ]
  },
  {
   "cell_type": "code",
   "execution_count": 8,
   "metadata": {},
   "outputs": [
    {
     "data": {
      "image/png": "[encoded data removed]",
      "text/plain": [
       "<Figure size 1200x300 with 3 Axes>"
      ]
     },
     "metadata": {},
     "output_type": "display_data"
    }
   ],
   "source": [
    "def make_diagnostics_data(diags):\n",
    "\n",
    "\n",
    "    params = diags[\"parameter_means\"]\n",
    "    roi_sizes = diags[\"ROI_sizes\"]\n",
    "    runtimes = diags[\"runtime_secs\"]\n",
    "    theoretical_halfing_prev = [roi_size/2 for roi_size in roi_sizes[:-1]]\n",
    "    theoretical_halfing_prev = [roi_sizes[0]] + theoretical_halfing_prev\n",
    "    theoretical_halfing = [roi_sizes[0]/(2**i) for i in range(len(roi_sizes))]\n",
    "    gammas = []\n",
    "    ps = []\n",
    "\n",
    "    for param in params:\n",
    "        gammas.append(param.gamma)\n",
    "        ps.append(param.p)\n",
    "\n",
    "    return np.array(gammas), np.array(ps), np.array(roi_sizes), np.array(runtimes), np.array(theoretical_halfing_prev), np.array(theoretical_halfing)\n",
    "\n",
    "gammas_1, ps_1, roi_sizes_1, runtimes_1, theoretical_halfing_prev_1, theoretical_halfing_1 = make_diagnostics_data(diags_1)\n",
    "gammas_2, ps_2, roi_sizes_2, runtimes_2, theoretical_halfing_prev_2, theoretical_halfing_2 = make_diagnostics_data(diags_2)\n",
    "gammas_3, ps_3, roi_sizes_3, runtimes_3, theoretical_halfing_prev_3, theoretical_halfing_3 = make_diagnostics_data(diags_3)\n",
    "\n",
    "mean_gammas = np.mean([gammas_1, gammas_2, gammas_3], axis=0)\n",
    "mean_ps = np.mean([ps_1, ps_2, ps_3], axis=0)\n",
    "mean_roi_sizes = np.mean([roi_sizes_1, roi_sizes_2, roi_sizes_3], axis=0)\n",
    "mean_runtimes = np.mean([runtimes_1, runtimes_2, runtimes_3], axis=0)\n",
    "mean_theoretical_halfing_prev = np.mean([theoretical_halfing_prev_1, theoretical_halfing_prev_2, theoretical_halfing_prev_3], axis=0)\n",
    "mean_theoretical_halfing = np.mean([theoretical_halfing_1, theoretical_halfing_2, theoretical_halfing_3], axis=0)\n",
    "\n",
    "var_gammas = np.var([gammas_1, gammas_2, gammas_3], axis=0)\n",
    "var_ps = np.var([ps_1, ps_2, ps_3], axis=0)\n",
    "var_roi_sizes = np.var([roi_sizes_1, roi_sizes_2, roi_sizes_3], axis=0)\n",
    "var_runtimes = np.var([runtimes_1, runtimes_2, runtimes_3], axis=0)\n",
    "var_theoretical_halfing_prev = np.var([theoretical_halfing_prev_1, theoretical_halfing_prev_2, theoretical_halfing_prev_3], axis=0)\n",
    "var_theoretical_halfing = np.var([theoretical_halfing_1, theoretical_halfing_2, theoretical_halfing_3], axis=0)\n",
    "\n",
    "import matplotlib.pyplot as plt\n",
    "\n",
    "fig, ax = plt.subplots(1, 3, figsize=(12, 3))\n",
    "\n",
    "ax[0].plot(mean_gammas, \"g-x\", label = \"Mean $\\gamma$\")\n",
    "ax[0].plot(mean_ps, \"b-o\", label=\"Mean $p$\")\n",
    "ax[0].fill_between(np.arange(0, len(gammas_1)), mean_gammas - 2*var_gammas, mean_gammas + 2*var_gammas, color=\"g\", alpha=0.2)\n",
    "ax[0].fill_between(np.arange(0, len(gammas_1)), mean_ps - 2*var_ps, mean_ps + 2*var_ps, color=\"b\", alpha=0.2)\n",
    "ax[0].set_xlabel(\"Episode\")\n",
    "ax[0].set_ylabel(\"Parameter Value\")\n",
    "ax[0].set_title(\"Mean parameter values over time\")\n",
    "ax[0].hlines(agent_gamma, 0, len(gammas_1), colors=\"g\", linestyles=\"--\", label=\"True $\\gamma$\")\n",
    "ax[0].hlines(agent_p, 0, len(gammas_1), colors=\"b\", linestyles=\"--\", label=\"True $p$\")\n",
    "# ax[0].set_ylim(0.5, 0.95)\n",
    "ax[0].legend(ncol=2)\n",
    "\n",
    "ax[1].plot(mean_roi_sizes, \"r-x\", label=\"ROI size\")\n",
    "ax[1].plot(mean_theoretical_halfing_prev, \"b-o\", label=\"Theo. Bound (prev point)\")\n",
    "ax[1].plot(mean_theoretical_halfing, \"g-o\", label=\"Theo. Bound\")\n",
    "ax[1].fill_between(np.arange(0, len(mean_roi_sizes)), mean_roi_sizes - 2*var_roi_sizes, mean_roi_sizes + 2*var_roi_sizes, color=\"r\", alpha=0.2)\n",
    "ax[1].set_xlabel(\"Episode\")\n",
    "ax[1].set_ylabel(\"ROI size\")\n",
    "ax[1].set_title(\"ROI size over time\")\n",
    "ax[1].legend()\n",
    "\n",
    "ax[2].plot(mean_runtimes, \"b-x\", label=\"Runtime\")\n",
    "ax[2].fill_between(np.arange(0, len(mean_roi_sizes)), mean_runtimes - 2*var_runtimes, mean_runtimes + 2*var_runtimes, color=\"b\", alpha=0.2)\n",
    "ax[2].set_xlabel(\"Episode\")\n",
    "ax[2].set_ylabel(\"Runtime (s)\")\n",
    "ax[2].set_title(\"Runtime (sec) per episode\")\n",
    "ax[2].legend()\n",
    "plt.tight_layout()\n",
    "plt.show()"
   ]
  }
 ],
 "metadata": {
  "kernelspec": {
   "display_name": "Python 3",
   "language": "python",
   "name": "python3"
  },
  "language_info": {
   "codemirror_mode": {
    "name": "ipython",
    "version": 3
   },
   "file_extension": ".py",
   "mimetype": "text/x-python",
   "name": "python",
   "nbconvert_exporter": "python",
   "pygments_lexer": "ipython3",
   "version": "3.10.12"
  }
 },
 "nbformat": 4,
 "nbformat_minor": 2
}
