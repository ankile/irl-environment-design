{
 "cells": [
  {
   "cell_type": "code",
   "execution_count": 1,
   "metadata": {},
   "outputs": [],
   "source": [
    "import os\n",
    "\n",
    "curr_dir = os.path.split(os.getcwd())[1]\n",
    "if curr_dir != \"irl-environment-design\":\n",
    "    os.chdir(\"..\")"
   ]
  },
  {
   "cell_type": "code",
   "execution_count": 2,
   "metadata": {},
   "outputs": [
    {
     "name": "stderr",
     "output_type": "stream",
     "text": [
      "/home/paul/.local/lib/python3.10/site-packages/numba/core/decorators.py:282: RuntimeWarning: nopython is set for njit and is ignored\n",
      "  warnings.warn('nopython is set for njit and is ignored', RuntimeWarning)\n"
     ]
    }
   ],
   "source": [
    "import numpy as np\n",
    "\n",
    "from src.utils.make_environment import (\n",
    "    transition_matrix,\n",
    "    Environment,\n",
    "    insert_walls_into_T,\n",
    ")\n",
    "\n",
    "from src.utils.constants import ParamTuple\n",
    "\n",
    "np.set_printoptions(linewidth=160, precision=2)\n",
    "\n",
    "from src.utils.environment_design import EnvironmentDesign\n",
    "\n",
    "from src.utils.inference.posterior import PosteriorInference"
   ]
  },
  {
   "cell_type": "markdown",
   "metadata": {},
   "source": [
    "### Create Environment"
   ]
  },
  {
   "cell_type": "code",
   "execution_count": 3,
   "metadata": {},
   "outputs": [],
   "source": [
    "# 0. Setup\n",
    "## 0.2 Setup the environment\n",
    "N, M = 7,7\n",
    "\n",
    "# TODO describe world\n",
    "agent_R = np.zeros((N, M))\n",
    "agent_R[N-1, 0] = 1\n",
    "agent_R[N-1, M-1] = 3\n",
    "\n",
    "\n",
    "\n",
    "# Start by making the agent we want to learn the policy of\n",
    "agent_p = 0.85\n",
    "agent_gamma = 0.65\n",
    "p_true=1\n",
    "\n",
    "agent_R = agent_R.flatten()\n",
    "goal_states = np.where(agent_R != 0)[0]\n",
    "\n",
    "true_params = ParamTuple(agent_p, agent_gamma, agent_R)\n",
    "\n",
    "wall_states = [14]\n",
    "\n",
    "T_true = transition_matrix(N, M, p=p_true, absorbing_states=goal_states)\n",
    "T_True = insert_walls_into_T(T=T_true, wall_indices=wall_states)\n",
    "\n",
    "big_small = Environment(\n",
    "    N=N,\n",
    "    M=M,\n",
    "    T_true=T_true,\n",
    "    wall_states=wall_states,\n",
    "    R_true=agent_R,\n",
    "    start_state=0,\n",
    "    n_walls=None,\n",
    "    goal_states=goal_states\n",
    ")"
   ]
  },
  {
   "cell_type": "markdown",
   "metadata": {},
   "source": [
    "### Environment Design"
   ]
  },
  {
   "cell_type": "code",
   "execution_count": 4,
   "metadata": {},
   "outputs": [],
   "source": [
    "env_design = EnvironmentDesign(base_environment=big_small, user_params=true_params, learn_what = \"gamma, T\")"
   ]
  },
  {
   "cell_type": "code",
   "execution_count": 5,
   "metadata": {},
   "outputs": [
    {
     "name": "stdout",
     "output_type": "stream",
     "text": [
      "Started episode 0.\n",
      "Finished episode 0.\n",
      "Started episode 1.\n",
      "Mean Parameters: ParamTuple(p=0.7315122367543453, gamma=0.6928401720963351, R=None)\n"
     ]
    },
    {
     "name": "stderr",
     "output_type": "stream",
     "text": [
      "/home/paul/Desktop/Uni/classes/CS282R/irl-environment-design/src/utils/make_candidate_environments.py:137: UserWarning: To copy construct from a tensor, it is recommended to use sourceTensor.clone().detach() or sourceTensor.clone().detach().requires_grad_(True), rather than torch.tensor(sourceTensor).\n",
      "  R = torch.tensor(R_init, dtype=torch.float32)\n"
     ]
    },
    {
     "name": "stdout",
     "output_type": "stream",
     "text": [
      "Learned Reward Function that maximizes Entropy. Reward function:  tensor([ 0.0674,  0.1336,  0.0000,  0.0000,  0.0000,  0.0000,  0.0000, -0.0618,\n",
      "         0.1361,  0.0000,  0.0000,  0.0000,  0.0000,  0.0000,  0.0000,  0.1234,\n",
      "         0.0000,  0.0000,  0.0000,  0.0000,  0.0000,  0.0000,  0.1343,  0.0000,\n",
      "         0.0000,  0.0000,  0.0000,  0.0000,  0.0000,  0.1299,  0.0000,  0.0000,\n",
      "         0.0000,  0.0000,  0.0000,  0.0699,  0.1296,  0.1273,  0.1280,  0.1350,\n",
      "         0.1579,  0.0000,  1.0000, -0.0691,  0.0000,  0.0000,  0.0000,  0.1949,\n",
      "         3.0000])\n",
      "Finished episode 1.\n",
      "Started episode 2.\n",
      "Mean Parameters: ParamTuple(p=0.7596382284854429, gamma=0.7132847958151161, R=None)\n",
      "Learned Reward Function that maximizes Entropy. Reward function:  tensor([ 7.2163e-02,  1.4329e-01,  0.0000e+00,  0.0000e+00,  0.0000e+00,\n",
      "         0.0000e+00,  0.0000e+00, -6.6415e-02,  1.4552e-01,  0.0000e+00,\n",
      "         0.0000e+00,  0.0000e+00,  0.0000e+00,  0.0000e+00,  0.0000e+00,\n",
      "         1.3267e-01,  0.0000e+00,  0.0000e+00,  0.0000e+00,  0.0000e+00,\n",
      "         0.0000e+00,  0.0000e+00,  1.4330e-01,  0.0000e+00,  0.0000e+00,\n",
      "         0.0000e+00,  0.0000e+00,  0.0000e+00,  0.0000e+00,  1.3906e-01,\n",
      "         0.0000e+00,  0.0000e+00,  0.0000e+00,  0.0000e+00,  0.0000e+00,\n",
      "         0.0000e+00,  1.4001e-01,  1.3663e-01,  1.3928e-01,  1.5313e-01,\n",
      "         1.8430e-01,  0.0000e+00,  1.0000e+00, -7.0134e-04,  0.0000e+00,\n",
      "         0.0000e+00,  0.0000e+00,  2.2582e-01,  3.0000e+00])\n",
      "Finished episode 2.\n",
      "Started episode 3.\n",
      "Mean Parameters: ParamTuple(p=0.7734643561041842, gamma=0.7306695372298772, R=None)\n",
      "Learned Reward Function that maximizes Entropy. Reward function:  tensor([ 7.6758e-02,  1.5256e-01,  0.0000e+00,  0.0000e+00,  0.0000e+00,\n",
      "         0.0000e+00,  0.0000e+00, -7.0855e-02,  1.5460e-01,  0.0000e+00,\n",
      "         0.0000e+00,  0.0000e+00,  0.0000e+00,  0.0000e+00,  0.0000e+00,\n",
      "         1.4165e-01,  0.0000e+00,  0.0000e+00,  0.0000e+00,  0.0000e+00,\n",
      "         0.0000e+00,  0.0000e+00,  1.5208e-01,  0.0000e+00,  0.0000e+00,\n",
      "         0.0000e+00,  0.0000e+00,  0.0000e+00,  0.0000e+00,  1.4819e-01,\n",
      "         0.0000e+00,  0.0000e+00,  0.0000e+00,  0.0000e+00,  0.0000e+00,\n",
      "         0.0000e+00,  1.5027e-01,  1.4626e-01,  1.5162e-01,  1.7167e-01,\n",
      "         2.0807e-01,  0.0000e+00,  1.0000e+00, -9.0409e-04,  0.0000e+00,\n",
      "         0.0000e+00,  0.0000e+00,  2.5156e-01,  3.0000e+00])\n",
      "Finished episode 3.\n",
      "Started episode 4.\n",
      "Mean Parameters: ParamTuple(p=0.7704552056774537, gamma=0.7520653687418678, R=None)\n",
      "Learned Reward Function that maximizes Entropy. Reward function:  tensor([ 8.3262e-02,  1.6559e-01,  0.0000e+00,  0.0000e+00,  0.0000e+00,\n",
      "         0.0000e+00,  0.0000e+00, -7.7202e-02,  1.6744e-01,  0.0000e+00,\n",
      "         0.0000e+00,  0.0000e+00,  0.0000e+00,  0.0000e+00,  0.0000e+00,\n",
      "         1.5444e-01,  0.0000e+00,  0.0000e+00,  0.0000e+00,  0.0000e+00,\n",
      "         0.0000e+00,  0.0000e+00,  1.6479e-01,  0.0000e+00,  0.0000e+00,\n",
      "         0.0000e+00,  0.0000e+00,  0.0000e+00,  0.0000e+00,  1.6139e-01,\n",
      "         0.0000e+00,  0.0000e+00,  0.0000e+00,  0.0000e+00,  0.0000e+00,\n",
      "         0.0000e+00,  1.6441e-01,  1.6052e-01,  1.6909e-01,  1.9432e-01,\n",
      "         2.3359e-01,  0.0000e+00,  1.0000e+00, -1.1002e-03,  0.0000e+00,\n",
      "         0.0000e+00,  0.0000e+00,  2.7736e-01,  3.0000e+00])\n",
      "Finished episode 4.\n",
      "Started episode 5.\n",
      "Mean Parameters: ParamTuple(p=0.7747373008592116, gamma=0.7595655856489962, R=None)\n",
      "Learned Reward Function that maximizes Entropy. Reward function:  tensor([ 8.5819e-02,  1.7073e-01,  0.0000e+00,  0.0000e+00,  0.0000e+00,\n",
      "         0.0000e+00,  0.0000e+00, -7.9672e-02,  1.7249e-01,  0.0000e+00,\n",
      "         0.0000e+00,  0.0000e+00,  0.0000e+00,  0.0000e+00,  0.0000e+00,\n",
      "         1.5945e-01,  0.0000e+00,  0.0000e+00,  0.0000e+00,  0.0000e+00,\n",
      "         0.0000e+00,  0.0000e+00,  1.6977e-01,  0.0000e+00,  0.0000e+00,\n",
      "         0.0000e+00,  0.0000e+00,  0.0000e+00,  0.0000e+00,  1.6664e-01,\n",
      "         0.0000e+00,  0.0000e+00,  0.0000e+00,  0.0000e+00,  0.0000e+00,\n",
      "         0.0000e+00,  1.7027e-01,  1.6652e-01,  1.7721e-01,  2.0546e-01,\n",
      "         2.4633e-01,  0.0000e+00,  1.0000e+00, -1.2256e-03,  0.0000e+00,\n",
      "         0.0000e+00,  0.0000e+00,  2.9051e-01,  3.0000e+00])\n",
      "Finished episode 5.\n",
      "Started episode 6.\n",
      "Mean Parameters: ParamTuple(p=0.7803806612561287, gamma=0.7611610333200475, R=None)\n",
      "Learned Reward Function that maximizes Entropy. Reward function:  tensor([ 8.6388e-02,  1.7188e-01,  0.0000e+00,  0.0000e+00,  0.0000e+00,\n",
      "         0.0000e+00,  0.0000e+00, -8.0201e-02,  1.7361e-01,  0.0000e+00,\n",
      "         0.0000e+00,  0.0000e+00,  0.0000e+00,  0.0000e+00,  0.0000e+00,\n",
      "         1.6054e-01,  0.0000e+00,  0.0000e+00,  0.0000e+00,  0.0000e+00,\n",
      "         0.0000e+00,  0.0000e+00,  1.7084e-01,  0.0000e+00,  0.0000e+00,\n",
      "         0.0000e+00,  0.0000e+00,  0.0000e+00,  0.0000e+00,  1.6784e-01,\n",
      "         0.0000e+00,  0.0000e+00,  0.0000e+00,  0.0000e+00,  0.0000e+00,\n",
      "         0.0000e+00,  1.7182e-01,  1.6810e-01,  1.7996e-01,  2.0982e-01,\n",
      "         2.5158e-01,  0.0000e+00,  1.0000e+00, -1.2945e-03,  0.0000e+00,\n",
      "         0.0000e+00,  0.0000e+00,  2.9614e-01,  3.0000e+00])\n",
      "Finished episode 6.\n",
      "Started episode 7.\n",
      "Mean Parameters: ParamTuple(p=0.7927673021422343, gamma=0.762348148751305, R=None)\n",
      "Learned Reward Function that maximizes Entropy. Reward function:  tensor([ 0.0000,  0.0857,  0.0000,  0.0000,  0.0000,  0.0000,  0.0000, -0.0806,\n",
      "         0.0000,  0.0000,  0.0000,  0.0000,  0.0000,  0.0000,  0.0000,  0.0000,\n",
      "         0.0000,  0.0000,  0.0000,  0.0000,  0.0000,  0.0000,  0.0000,  0.0000,\n",
      "         0.0000,  0.0000,  0.0000,  0.0000,  0.0000,  0.0000,  0.0000,  0.0000,\n",
      "         0.0000,  0.0000,  0.0000,  0.0000,  0.0000,  0.0845,  0.0912,  0.1076,\n",
      "         0.1297,  0.0000,  1.0000, -0.0954,  0.0000,  0.0000,  0.0000,  0.1526,\n",
      "         3.0000])\n",
      "Finished episode 7.\n",
      "Started episode 8.\n",
      "Mean Parameters: ParamTuple(p=0.806106812906285, gamma=0.7555551924000891, R=None)\n",
      "Learned Reward Function that maximizes Entropy. Reward function:  tensor([ 0.0000,  0.0834,  0.0000,  0.0000,  0.0000,  0.0000,  0.0000, -0.0782,\n",
      "         0.0000,  0.0000,  0.0000,  0.0000,  0.0000,  0.0000,  0.0000,  0.0000,\n",
      "         0.0000,  0.0000,  0.0000,  0.0000,  0.0000,  0.0000,  0.0000,  0.0000,\n",
      "         0.0000,  0.0000,  0.0000,  0.0000,  0.0000,  0.0000,  0.0000,  0.0000,\n",
      "         0.0000,  0.0000,  0.0000,  0.0000,  0.0000,  0.0820,  0.0888,  0.1055,\n",
      "         0.1279,  0.0000,  1.0000, -0.0936,  0.0000,  0.0000,  0.0000,  0.1512,\n",
      "         3.0000])\n",
      "Finished episode 8.\n",
      "Started episode 9.\n",
      "Mean Parameters: ParamTuple(p=0.8169816632991173, gamma=0.7455416473587492, R=None)\n",
      "Learned Reward Function that maximizes Entropy. Reward function:  tensor([ 0.0000,  0.0801,  0.0000,  0.0000,  0.0000,  0.0000,  0.0000, -0.0750,\n",
      "         0.0000,  0.0000,  0.0000,  0.0000,  0.0000,  0.0000,  0.0000,  0.0000,\n",
      "         0.0000,  0.0000,  0.0000,  0.0000,  0.0000,  0.0000,  0.0000,  0.0000,\n",
      "         0.0000,  0.0000,  0.0000,  0.0000,  0.0000,  0.0000,  0.0000,  0.0000,\n",
      "         0.0000,  0.0000,  0.0000,  0.0000,  0.0000,  0.0783,  0.0846,  0.1009,\n",
      "         0.1233,  0.0000,  1.0000, -0.0904,  0.0000,  0.0000,  0.0000,  0.1468,\n",
      "         3.0000])\n",
      "Finished episode 9.\n",
      "Started episode 10.\n",
      "Mean Parameters: ParamTuple(p=0.8286314199106068, gamma=0.7353015449617017, R=None)\n",
      "Learned Reward Function that maximizes Entropy. Reward function:  tensor([ 0.0000,  0.0771,  0.0000,  0.0000,  0.0000,  0.0000,  0.0000, -0.0720,\n",
      "         0.0000,  0.0000,  0.0000,  0.0000,  0.0000,  0.0000,  0.0000,  0.0000,\n",
      "         0.0000,  0.0000,  0.0000,  0.0000,  0.0000,  0.0000,  0.0000,  0.0000,\n",
      "         0.0000,  0.0000,  0.0000,  0.0000,  0.0000,  0.0000,  0.0000,  0.0000,\n",
      "         0.0000,  0.0000,  0.0000,  0.0000,  0.0000,  0.0749,  0.0807,  0.0965,\n",
      "         0.1190,  0.0000,  1.0000, -0.0874,  0.0000,  0.0000,  0.0000,  0.1428,\n",
      "         3.0000])\n",
      "Finished episode 10.\n",
      "Started episode 11.\n",
      "Mean Parameters: ParamTuple(p=0.8351600911621542, gamma=0.7292325275275275, R=None)\n",
      "Learned Reward Function that maximizes Entropy. Reward function:  tensor([ 0.0000,  0.0754,  0.0000,  0.0000,  0.0000,  0.0000,  0.0000, -0.0703,\n",
      "         0.0765,  0.0000,  0.0000,  0.0000,  0.0000,  0.0000,  0.0000,  0.0699,\n",
      "         0.0000,  0.0000,  0.0000,  0.0000,  0.0000,  0.0000,  0.0749,  0.0000,\n",
      "         0.0000,  0.0000,  0.0000,  0.0000,  0.0000,  0.0733,  0.0000,  0.0000,\n",
      "         0.0000,  0.0000,  0.0000,  0.0000,  0.0758,  0.1468,  0.1584,  0.1895,\n",
      "         0.2335,  0.0000,  1.0000, -0.0857,  0.0000,  0.0000,  0.0000,  0.2812,\n",
      "         3.0000])\n",
      "Finished episode 11.\n",
      "Started episode 12.\n",
      "Mean Parameters: ParamTuple(p=0.8176744447725968, gamma=0.7311112377039556, R=None)\n",
      "Learned Reward Function that maximizes Entropy. Reward function:  tensor([ 0.0000,  0.0759,  0.0000,  0.0000,  0.0000,  0.0000,  0.0000, -0.0709,\n",
      "         0.0770,  0.0000,  0.0000,  0.0000,  0.0000,  0.0000,  0.0000,  0.0704,\n",
      "         0.0000,  0.0000,  0.0000,  0.0000,  0.0000,  0.0000,  0.0755,  0.0000,\n",
      "         0.0000,  0.0000,  0.0000,  0.0000,  0.0000,  0.0738,  0.0000,  0.0000,\n",
      "         0.0000,  0.0000,  0.0000,  0.0000,  0.0759,  0.1475,  0.1573,  0.1856,\n",
      "         0.2280,  0.0000,  1.0000, -0.0850,  0.0000,  0.0000,  0.0000,  0.2746,\n",
      "         3.0000])\n",
      "Finished episode 12.\n",
      "Started episode 13.\n",
      "Mean Parameters: ParamTuple(p=0.8183552621755646, gamma=0.7309205846053898, R=None)\n",
      "Learned Reward Function that maximizes Entropy. Reward function:  tensor([ 0.0000,  0.0758,  0.0000,  0.0000,  0.0000,  0.0000,  0.0000, -0.0708,\n",
      "         0.0770,  0.0000,  0.0000,  0.0000,  0.0000,  0.0000,  0.0000,  0.0704,\n",
      "         0.0000,  0.0000,  0.0000,  0.0000,  0.0000,  0.0000,  0.0755,  0.0000,\n",
      "         0.0000,  0.0000,  0.0000,  0.0000,  0.0000,  0.0738,  0.0000,  0.0000,\n",
      "         0.0000,  0.0000,  0.0000,  0.0000,  0.0759,  0.1474,  0.1572,  0.1856,\n",
      "         0.2281,  0.0000,  1.0000, -0.0850,  0.0000,  0.0000,  0.0000,  0.2747,\n",
      "         3.0000])\n",
      "Finished episode 13.\n",
      "Started episode 14.\n",
      "Mean Parameters: ParamTuple(p=0.8190366663690752, gamma=0.7307307783111875, R=None)\n",
      "Learned Reward Function that maximizes Entropy. Reward function:  tensor([ 0.0000,  0.0758,  0.0000,  0.0000,  0.0000,  0.0000,  0.0000, -0.0708,\n",
      "         0.0769,  0.0000,  0.0000,  0.0000,  0.0000,  0.0000,  0.0000,  0.0703,\n",
      "         0.0000,  0.0000,  0.0000,  0.0000,  0.0000,  0.0000,  0.0754,  0.0000,\n",
      "         0.0000,  0.0000,  0.0000,  0.0000,  0.0000,  0.0737,  0.0000,  0.0000,\n",
      "         0.0000,  0.0000,  0.0000,  0.0000,  0.0758,  0.1472,  0.1572,  0.1856,\n",
      "         0.2281,  0.0000,  1.0000, -0.0850,  0.0000,  0.0000,  0.0000,  0.2748,\n",
      "         3.0000])\n",
      "Finished episode 14.\n",
      "Started episode 15.\n",
      "Mean Parameters: ParamTuple(p=0.8197185398681305, gamma=0.7305418464394887, R=None)\n",
      "Learned Reward Function that maximizes Entropy. Reward function:  tensor([ 0.0000,  0.0757,  0.0000,  0.0000,  0.0000,  0.0000,  0.0000, -0.0707,\n",
      "         0.0769,  0.0000,  0.0000,  0.0000,  0.0000,  0.0000,  0.0000,  0.0703,\n",
      "         0.0000,  0.0000,  0.0000,  0.0000,  0.0000,  0.0000,  0.0754,  0.0000,\n",
      "         0.0000,  0.0000,  0.0000,  0.0000,  0.0000,  0.0737,  0.0000,  0.0000,\n",
      "         0.0000,  0.0000,  0.0000,  0.0000,  0.0758,  0.1471,  0.1571,  0.1856,\n",
      "         0.2282,  0.0000,  1.0000, -0.0849,  0.0000,  0.0000,  0.0000,  0.2749,\n",
      "         3.0000])\n",
      "Finished episode 15.\n",
      "Started episode 16.\n",
      "Mean Parameters: ParamTuple(p=0.8204007338284777, gamma=0.7303538254612312, R=None)\n",
      "Learned Reward Function that maximizes Entropy. Reward function:  tensor([ 0.0000,  0.0757,  0.0000,  0.0000,  0.0000,  0.0000,  0.0000, -0.0707,\n",
      "         0.0768,  0.0000,  0.0000,  0.0000,  0.0000,  0.0000,  0.0000,  0.0702,\n",
      "         0.0000,  0.0000,  0.0000,  0.0000,  0.0000,  0.0000,  0.0753,  0.0000,\n",
      "         0.0000,  0.0000,  0.0000,  0.0000,  0.0000,  0.0736,  0.0000,  0.0000,\n",
      "         0.0000,  0.0000,  0.0000,  0.0000,  0.0757,  0.1470,  0.1570,  0.1856,\n",
      "         0.2283,  0.0000,  1.0000, -0.0849,  0.0000,  0.0000,  0.0000,  0.2751,\n",
      "         3.0000])\n",
      "Finished episode 16.\n",
      "Started episode 17.\n",
      "Mean Parameters: ParamTuple(p=0.8210831203836897, gamma=0.7301667440564594, R=None)\n",
      "Learned Reward Function that maximizes Entropy. Reward function:  tensor([ 0.0000,  0.0756,  0.0000,  0.0000,  0.0000,  0.0000,  0.0000, -0.0706,\n",
      "         0.0767,  0.0000,  0.0000,  0.0000,  0.0000,  0.0000,  0.0000,  0.0702,\n",
      "         0.0000,  0.0000,  0.0000,  0.0000,  0.0000,  0.0000,  0.0753,  0.0000,\n",
      "         0.0000,  0.0000,  0.0000,  0.0000,  0.0000,  0.0736,  0.0000,  0.0000,\n",
      "         0.0000,  0.0000,  0.0000,  0.0000,  0.0757,  0.1469,  0.1570,  0.1857,\n",
      "         0.2283,  0.0000,  1.0000, -0.0849,  0.0000,  0.0000,  0.0000,  0.2752,\n",
      "         3.0000])\n",
      "Finished episode 17.\n",
      "Started episode 18.\n",
      "Mean Parameters: ParamTuple(p=0.82176555962001, gamma=0.7299806346602036, R=None)\n",
      "Learned Reward Function that maximizes Entropy. Reward function:  tensor([ 0.0000,  0.0756,  0.0000,  0.0000,  0.0000,  0.0000,  0.0000, -0.0705,\n",
      "         0.0767,  0.0000,  0.0000,  0.0000,  0.0000,  0.0000,  0.0000,  0.0701,\n",
      "         0.0000,  0.0000,  0.0000,  0.0000,  0.0000,  0.0000,  0.0752,  0.0000,\n",
      "         0.0000,  0.0000,  0.0000,  0.0000,  0.0000,  0.0735,  0.0000,  0.0000,\n",
      "         0.0000,  0.0000,  0.0000,  0.0000,  0.0756,  0.1468,  0.1569,  0.1857,\n",
      "         0.2284,  0.0000,  1.0000, -0.0849,  0.0000,  0.0000,  0.0000,  0.2753,\n",
      "         3.0000])\n",
      "Finished episode 18.\n",
      "Started episode 19.\n",
      "Mean Parameters: ParamTuple(p=0.8224479124071766, gamma=0.7297955286178002, R=None)\n",
      "Learned Reward Function that maximizes Entropy. Reward function:  tensor([ 0.0000,  0.0755,  0.0000,  0.0000,  0.0000,  0.0000,  0.0000, -0.0705,\n",
      "         0.0766,  0.0000,  0.0000,  0.0000,  0.0000,  0.0000,  0.0000,  0.0700,\n",
      "         0.0000,  0.0000,  0.0000,  0.0000,  0.0000,  0.0000,  0.0752,  0.0000,\n",
      "         0.0000,  0.0000,  0.0000,  0.0000,  0.0000,  0.0734,  0.0000,  0.0000,\n",
      "         0.0000,  0.0000,  0.0000,  0.0000,  0.0756,  0.1467,  0.1569,  0.1857,\n",
      "         0.2285,  0.0000,  1.0000, -0.0849,  0.0000,  0.0000,  0.0000,  0.2754,\n",
      "         3.0000])\n",
      "Finished episode 19.\n",
      "Started episode 20.\n",
      "Mean Parameters: ParamTuple(p=0.8231300297202498, gamma=0.7296114584792798, R=None)\n",
      "Learned Reward Function that maximizes Entropy. Reward function:  tensor([ 0.0000,  0.0755,  0.0000,  0.0000,  0.0000,  0.0000,  0.0000, -0.0704,\n",
      "         0.0766,  0.0000,  0.0000,  0.0000,  0.0000,  0.0000,  0.0000,  0.0700,\n",
      "         0.0000,  0.0000,  0.0000,  0.0000,  0.0000,  0.0000,  0.0751,  0.0000,\n",
      "         0.0000,  0.0000,  0.0000,  0.0000,  0.0000,  0.0734,  0.0000,  0.0000,\n",
      "         0.0000,  0.0000,  0.0000,  0.0000,  0.0756,  0.1466,  0.1568,  0.1857,\n",
      "         0.2285,  0.0000,  1.0000, -0.0849,  0.0000,  0.0000,  0.0000,  0.2755,\n",
      "         3.0000])\n",
      "Finished episode 20.\n",
      "Started episode 21.\n",
      "Mean Parameters: ParamTuple(p=0.8238117771482694, gamma=0.72942845431386, R=None)\n",
      "Learned Reward Function that maximizes Entropy. Reward function:  tensor([ 0.0000,  0.0754,  0.0000,  0.0000,  0.0000,  0.0000,  0.0000, -0.0704,\n",
      "         0.0765,  0.0000,  0.0000,  0.0000,  0.0000,  0.0000,  0.0000,  0.0699,\n",
      "         0.0000,  0.0000,  0.0000,  0.0000,  0.0000,  0.0000,  0.0751,  0.0000,\n",
      "         0.0000,  0.0000,  0.0000,  0.0000,  0.0000,  0.0733,  0.0000,  0.0000,\n",
      "         0.0000,  0.0000,  0.0000,  0.0000,  0.0755,  0.1465,  0.1568,  0.1857,\n",
      "         0.2286,  0.0000,  1.0000, -0.0849,  0.0000,  0.0000,  0.0000,  0.2756,\n",
      "         3.0000])\n",
      "Finished episode 21.\n",
      "Started episode 22.\n",
      "Mean Parameters: ParamTuple(p=0.8244929994294414, gamma=0.7292465500147737, R=None)\n",
      "Learned Reward Function that maximizes Entropy. Reward function:  tensor([ 0.0000,  0.0754,  0.0000,  0.0000,  0.0000,  0.0000,  0.0000, -0.0703,\n",
      "         0.0765,  0.0000,  0.0000,  0.0000,  0.0000,  0.0000,  0.0000,  0.0699,\n",
      "         0.0000,  0.0000,  0.0000,  0.0000,  0.0000,  0.0000,  0.0750,  0.0000,\n",
      "         0.0000,  0.0000,  0.0000,  0.0000,  0.0000,  0.0733,  0.0000,  0.0000,\n",
      "         0.0000,  0.0000,  0.0000,  0.0000,  0.0755,  0.1465,  0.1567,  0.1858,\n",
      "         0.2287,  0.0000,  1.0000, -0.0849,  0.0000,  0.0000,  0.0000,  0.2757,\n",
      "         3.0000])\n",
      "Finished episode 22.\n",
      "Started episode 23.\n",
      "Mean Parameters: ParamTuple(p=0.8251735599206499, gamma=0.7290657729288427, R=None)\n",
      "Learned Reward Function that maximizes Entropy. Reward function:  tensor([ 0.0000,  0.0753,  0.0000,  0.0000,  0.0000,  0.0000,  0.0000, -0.0703,\n",
      "         0.0764,  0.0000,  0.0000,  0.0000,  0.0000,  0.0000,  0.0000,  0.0698,\n",
      "         0.0000,  0.0000,  0.0000,  0.0000,  0.0000,  0.0000,  0.0750,  0.0000,\n",
      "         0.0000,  0.0000,  0.0000,  0.0000,  0.0000,  0.0732,  0.0000,  0.0000,\n",
      "         0.0000,  0.0000,  0.0000,  0.0000,  0.0754,  0.1464,  0.1566,  0.1858,\n",
      "         0.2288,  0.0000,  1.0000, -0.0848,  0.0000,  0.0000,  0.0000,  0.2759,\n",
      "         3.0000])\n",
      "Finished episode 23.\n",
      "Started episode 24.\n",
      "Mean Parameters: ParamTuple(p=0.8258533026220748, gamma=0.7288861568017152, R=None)\n",
      "Learned Reward Function that maximizes Entropy. Reward function:  tensor([ 0.0000,  0.0753,  0.0000,  0.0000,  0.0000,  0.0000,  0.0000, -0.0702,\n",
      "         0.0764,  0.0000,  0.0000,  0.0000,  0.0000,  0.0000,  0.0000,  0.0698,\n",
      "         0.0000,  0.0000,  0.0000,  0.0000,  0.0000,  0.0000,  0.0749,  0.0000,\n",
      "         0.0000,  0.0000,  0.0000,  0.0000,  0.0000,  0.0732,  0.0000,  0.0000,\n",
      "         0.0000,  0.0000,  0.0000,  0.0000,  0.0754,  0.1463,  0.1566,  0.1858,\n",
      "         0.2289,  0.0000,  1.0000, -0.0848,  0.0000,  0.0000,  0.0000,  0.2760,\n",
      "         3.0000])\n",
      "Finished episode 24.\n",
      "saved in filepath /home/paul/Desktop/Uni/classes/CS282R/irl-environment-design/checkpoints/big_small/18.04.2024\n"
     ]
    }
   ],
   "source": [
    "candidate_environments_args = {}\n",
    "# candidate_environments_args[\"n_environments\"] = 50\n",
    "candidate_environments_args[\"generate_how\"] = \"entropy_BM\"\n",
    "# candidate_environments_args[\"n_walls\"] = 5\n",
    "\n",
    "\n",
    "env_design.run_n_episodes(n_episodes=25,\n",
    "                          bayesian_regret_how=\"value\",\n",
    "                          candidate_environments_args=candidate_environments_args)\n",
    "\n",
    "env_design.save(\"big_small\")"
   ]
  },
  {
   "cell_type": "markdown",
   "metadata": {},
   "source": [
    "### Inference - load observations and initialize posterior inference class."
   ]
  },
  {
   "cell_type": "code",
   "execution_count": 6,
   "metadata": {},
   "outputs": [],
   "source": [
    "import pickle\n",
    "\n",
    "experiment_name = os.path.join(\"checkpoints\", \"big_small\", \"18.04.2024\", \"16:28:40\")\n",
    "\n",
    "def load_file(file_name):\n",
    "    with open(file_name, 'rb') as file:\n",
    "        data = pickle.load(file)\n",
    "    return data\n",
    "\n",
    "# Example usage\n",
    "file_name = experiment_name\n",
    "big_small_experiment = load_file(file_name)"
   ]
  },
  {
   "cell_type": "code",
   "execution_count": 7,
   "metadata": {},
   "outputs": [],
   "source": [
    "obs = big_small_experiment[\"all_observations\"][7]"
   ]
  },
  {
   "cell_type": "code",
   "execution_count": 8,
   "metadata": {},
   "outputs": [
    {
     "data": {
      "text/plain": [
       "tensor([ 0.0000,  0.0857,  0.0000,  0.0000,  0.0000,  0.0000,  0.0000, -0.0806,\n",
       "         0.0000,  0.0000,  0.0000,  0.0000,  0.0000,  0.0000,  0.0000,  0.0000,\n",
       "         0.0000,  0.0000,  0.0000,  0.0000,  0.0000,  0.0000,  0.0000,  0.0000,\n",
       "         0.0000,  0.0000,  0.0000,  0.0000,  0.0000,  0.0000,  0.0000,  0.0000,\n",
       "         0.0000,  0.0000,  0.0000,  0.0000,  0.0000,  0.0845,  0.0912,  0.1076,\n",
       "         0.1297,  0.0000,  1.0000, -0.0954,  0.0000,  0.0000,  0.0000,  0.1526,\n",
       "         3.0000])"
      ]
     },
     "execution_count": 8,
     "metadata": {},
     "output_type": "execute_result"
    }
   ],
   "source": [
    "obs[0].R_true"
   ]
  },
  {
   "cell_type": "code",
   "execution_count": 9,
   "metadata": {},
   "outputs": [],
   "source": [
    "pos_inference = PosteriorInference(expert_trajectories=[big_small_experiment[\"all_observations\"][7]],\n",
    "                                    resolution = 15,\n",
    "                                    min_gamma = 0.5,\n",
    "                                    max_gamma = 0.99,\n",
    "                                    min_p = 0.5,\n",
    "                                    max_p = 0.99)"
   ]
  },
  {
   "cell_type": "markdown",
   "metadata": {},
   "source": [
    "### Calculate Posterior Distribution."
   ]
  },
  {
   "cell_type": "code",
   "execution_count": 10,
   "metadata": {},
   "outputs": [
    {
     "name": "stdout",
     "output_type": "stream",
     "text": [
      "Calculate distribution of episode 0, e.g. the prior distribution.\n",
      "Calculate distribution of episode 1.\n"
     ]
    }
   ],
   "source": [
    "pos_inference.calculate_posterior(num_episodes=1)"
   ]
  },
  {
   "cell_type": "code",
   "execution_count": 11,
   "metadata": {},
   "outputs": [
    {
     "data": {
      "image/png": "[encoded data removed]",
      "text/plain": [
       "<Figure size 640x480 with 2 Axes>"
      ]
     },
     "metadata": {},
     "output_type": "display_data"
    }
   ],
   "source": [
    "pos_inference.plot_posterior(episode=1, param_values=true_params)"
   ]
  },
  {
   "cell_type": "markdown",
   "metadata": {},
   "source": [
    "### Make inference."
   ]
  },
  {
   "cell_type": "code",
   "execution_count": 12,
   "metadata": {},
   "outputs": [
    {
     "ename": "AssertionError",
     "evalue": "Posterior Distribution for this episode does not exist yet. Only the following episodes exist: dict_keys(['episode=0', 'episode=1'])",
     "output_type": "error",
     "traceback": [
      "\u001b[0;31m---------------------------------------------------------------------------\u001b[0m",
      "\u001b[0;31mAssertionError\u001b[0m                            Traceback (most recent call last)",
      "Cell \u001b[0;32mIn[12], line 1\u001b[0m\n\u001b[0;32m----> 1\u001b[0m \u001b[43mpos_inference\u001b[49m\u001b[38;5;241;43m.\u001b[39;49m\u001b[43mplot_statistics_over_time\u001b[49m\u001b[43m(\u001b[49m\u001b[43mepisode\u001b[49m\u001b[38;5;241;43m=\u001b[39;49m\u001b[38;5;241;43m4\u001b[39;49m\u001b[43m,\u001b[49m\u001b[43m \u001b[49m\u001b[43mtrue_params\u001b[49m\u001b[38;5;241;43m=\u001b[39;49m\u001b[43mtrue_params\u001b[49m\u001b[43m)\u001b[49m\n",
      "File \u001b[0;32m~/Desktop/Uni/classes/CS282R/irl-environment-design/src/utils/inference/posterior.py:210\u001b[0m, in \u001b[0;36mPosteriorInference.plot_statistics_over_time\u001b[0;34m(self, episode, true_params)\u001b[0m\n\u001b[1;32m    208\u001b[0m \u001b[38;5;66;03m#Statistics to plot.\u001b[39;00m\n\u001b[1;32m    209\u001b[0m episodes \u001b[38;5;241m=\u001b[39m np\u001b[38;5;241m.\u001b[39marange(episode\u001b[38;5;241m+\u001b[39m\u001b[38;5;241m1\u001b[39m)\n\u001b[0;32m--> 210\u001b[0m mean_per_episode \u001b[38;5;241m=\u001b[39m [\u001b[38;5;28mself\u001b[39m\u001b[38;5;241m.\u001b[39mmean(episode\u001b[38;5;241m=\u001b[39mi) \u001b[38;5;28;01mfor\u001b[39;00m i \u001b[38;5;129;01min\u001b[39;00m \u001b[38;5;28mrange\u001b[39m(episode\u001b[38;5;241m+\u001b[39m\u001b[38;5;241m1\u001b[39m)]\n\u001b[1;32m    211\u001b[0m MAP_per_episode \u001b[38;5;241m=\u001b[39m [\u001b[38;5;28mself\u001b[39m\u001b[38;5;241m.\u001b[39mMAP(episode\u001b[38;5;241m=\u001b[39mi) \u001b[38;5;28;01mfor\u001b[39;00m i \u001b[38;5;129;01min\u001b[39;00m \u001b[38;5;28mrange\u001b[39m(episode\u001b[38;5;241m+\u001b[39m\u001b[38;5;241m1\u001b[39m)]\n\u001b[1;32m    212\u001b[0m prob_true_per_episode \u001b[38;5;241m=\u001b[39m [\u001b[38;5;28mself\u001b[39m\u001b[38;5;241m.\u001b[39mprob_true(episode\u001b[38;5;241m=\u001b[39mi, true_params\u001b[38;5;241m=\u001b[39mtrue_params) \u001b[38;5;28;01mfor\u001b[39;00m i \u001b[38;5;129;01min\u001b[39;00m \u001b[38;5;28mrange\u001b[39m(episode\u001b[38;5;241m+\u001b[39m\u001b[38;5;241m1\u001b[39m)]\n",
      "File \u001b[0;32m~/Desktop/Uni/classes/CS282R/irl-environment-design/src/utils/inference/posterior.py:210\u001b[0m, in \u001b[0;36m<listcomp>\u001b[0;34m(.0)\u001b[0m\n\u001b[1;32m    208\u001b[0m \u001b[38;5;66;03m#Statistics to plot.\u001b[39;00m\n\u001b[1;32m    209\u001b[0m episodes \u001b[38;5;241m=\u001b[39m np\u001b[38;5;241m.\u001b[39marange(episode\u001b[38;5;241m+\u001b[39m\u001b[38;5;241m1\u001b[39m)\n\u001b[0;32m--> 210\u001b[0m mean_per_episode \u001b[38;5;241m=\u001b[39m [\u001b[38;5;28;43mself\u001b[39;49m\u001b[38;5;241;43m.\u001b[39;49m\u001b[43mmean\u001b[49m\u001b[43m(\u001b[49m\u001b[43mepisode\u001b[49m\u001b[38;5;241;43m=\u001b[39;49m\u001b[43mi\u001b[49m\u001b[43m)\u001b[49m \u001b[38;5;28;01mfor\u001b[39;00m i \u001b[38;5;129;01min\u001b[39;00m \u001b[38;5;28mrange\u001b[39m(episode\u001b[38;5;241m+\u001b[39m\u001b[38;5;241m1\u001b[39m)]\n\u001b[1;32m    211\u001b[0m MAP_per_episode \u001b[38;5;241m=\u001b[39m [\u001b[38;5;28mself\u001b[39m\u001b[38;5;241m.\u001b[39mMAP(episode\u001b[38;5;241m=\u001b[39mi) \u001b[38;5;28;01mfor\u001b[39;00m i \u001b[38;5;129;01min\u001b[39;00m \u001b[38;5;28mrange\u001b[39m(episode\u001b[38;5;241m+\u001b[39m\u001b[38;5;241m1\u001b[39m)]\n\u001b[1;32m    212\u001b[0m prob_true_per_episode \u001b[38;5;241m=\u001b[39m [\u001b[38;5;28mself\u001b[39m\u001b[38;5;241m.\u001b[39mprob_true(episode\u001b[38;5;241m=\u001b[39mi, true_params\u001b[38;5;241m=\u001b[39mtrue_params) \u001b[38;5;28;01mfor\u001b[39;00m i \u001b[38;5;129;01min\u001b[39;00m \u001b[38;5;28mrange\u001b[39m(episode\u001b[38;5;241m+\u001b[39m\u001b[38;5;241m1\u001b[39m)]\n",
      "File \u001b[0;32m~/Desktop/Uni/classes/CS282R/irl-environment-design/src/utils/inference/posterior.py:262\u001b[0m, in \u001b[0;36mPosteriorInference.mean\u001b[0;34m(self, episode, posterior_dist)\u001b[0m\n\u001b[1;32m    259\u001b[0m \u001b[38;5;28;01massert\u001b[39;00m (episode \u001b[38;5;129;01mis\u001b[39;00m \u001b[38;5;129;01mnot\u001b[39;00m \u001b[38;5;28;01mNone\u001b[39;00m) \u001b[38;5;129;01mor\u001b[39;00m (posterior_dist \u001b[38;5;129;01mis\u001b[39;00m \u001b[38;5;129;01mnot\u001b[39;00m \u001b[38;5;28;01mNone\u001b[39;00m), \u001b[38;5;124mf\u001b[39m\u001b[38;5;124m\"\u001b[39m\u001b[38;5;124mSupply either episode to calculate mean for or supply posterior distribution.\u001b[39m\u001b[38;5;124m\"\u001b[39m \n\u001b[1;32m    261\u001b[0m \u001b[38;5;28;01mif\u001b[39;00m episode \u001b[38;5;129;01mis\u001b[39;00m \u001b[38;5;129;01mnot\u001b[39;00m \u001b[38;5;28;01mNone\u001b[39;00m:\n\u001b[0;32m--> 262\u001b[0m     \u001b[38;5;28;43mself\u001b[39;49m\u001b[38;5;241;43m.\u001b[39;49m\u001b[43m_validate_episode\u001b[49m\u001b[43m(\u001b[49m\u001b[43mepisode\u001b[49m\u001b[38;5;241;43m=\u001b[39;49m\u001b[43mepisode\u001b[49m\u001b[43m)\u001b[49m\n\u001b[1;32m    264\u001b[0m     \u001b[38;5;66;03m#Arrays to take mean over.\u001b[39;00m\n\u001b[1;32m    265\u001b[0m     posterior_probabilities \u001b[38;5;241m=\u001b[39m np\u001b[38;5;241m.\u001b[39mexp(\u001b[38;5;28mself\u001b[39m\u001b[38;5;241m.\u001b[39mposterior_distribution[\u001b[38;5;124mf\u001b[39m\u001b[38;5;124m\"\u001b[39m\u001b[38;5;124mepisode=\u001b[39m\u001b[38;5;132;01m{\u001b[39;00mepisode\u001b[38;5;132;01m}\u001b[39;00m\u001b[38;5;124m\"\u001b[39m])\n",
      "File \u001b[0;32m~/Desktop/Uni/classes/CS282R/irl-environment-design/src/utils/inference/posterior.py:49\u001b[0m, in \u001b[0;36mPosteriorInference._validate_episode\u001b[0;34m(self, episode)\u001b[0m\n\u001b[1;32m     46\u001b[0m \u001b[38;5;28;01mdef\u001b[39;00m \u001b[38;5;21m_validate_episode\u001b[39m(\u001b[38;5;28mself\u001b[39m,\n\u001b[1;32m     47\u001b[0m                       episode):\n\u001b[0;32m---> 49\u001b[0m     \u001b[38;5;28;01massert\u001b[39;00m \u001b[38;5;124mf\u001b[39m\u001b[38;5;124m\"\u001b[39m\u001b[38;5;124mepisode=\u001b[39m\u001b[38;5;132;01m{\u001b[39;00mepisode\u001b[38;5;132;01m}\u001b[39;00m\u001b[38;5;124m\"\u001b[39m \u001b[38;5;129;01min\u001b[39;00m \u001b[38;5;28mself\u001b[39m\u001b[38;5;241m.\u001b[39mposterior_distribution, \u001b[38;5;124mf\u001b[39m\u001b[38;5;124m\"\u001b[39m\u001b[38;5;124mPosterior Distribution for this episode does not exist yet. Only the following episodes exist: \u001b[39m\u001b[38;5;132;01m{\u001b[39;00m\u001b[38;5;28mself\u001b[39m\u001b[38;5;241m.\u001b[39mposterior_distribution\u001b[38;5;241m.\u001b[39mkeys()\u001b[38;5;132;01m}\u001b[39;00m\u001b[38;5;124m\"\u001b[39m\n",
      "\u001b[0;31mAssertionError\u001b[0m: Posterior Distribution for this episode does not exist yet. Only the following episodes exist: dict_keys(['episode=0', 'episode=1'])"
     ]
    }
   ],
   "source": [
    "pos_inference.plot_statistics_over_time(episode=4, true_params=true_params)"
   ]
  },
  {
   "cell_type": "code",
   "execution_count": null,
   "metadata": {},
   "outputs": [],
   "source": [
    "pos_inference.plot_posterior(episode=10, true_params=true_params)"
   ]
  }
 ],
 "metadata": {
  "kernelspec": {
   "display_name": "Python 3",
   "language": "python",
   "name": "python3"
  },
  "language_info": {
   "codemirror_mode": {
    "name": "ipython",
    "version": 3
   },
   "file_extension": ".py",
   "mimetype": "text/x-python",
   "name": "python",
   "nbconvert_exporter": "python",
   "pygments_lexer": "ipython3",
   "version": "3.10.12"
  }
 },
 "nbformat": 4,
 "nbformat_minor": 2
}
