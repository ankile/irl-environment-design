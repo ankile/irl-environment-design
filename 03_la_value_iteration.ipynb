{
 "cells": [
  {
   "cell_type": "code",
   "execution_count": 240,
   "metadata": {},
   "outputs": [],
   "source": [
    "import numpy as np\n",
    "from numba import jit\n",
    "import matplotlib.pyplot as plt\n",
    "from itertools import product\n",
    "from tqdm import tqdm\n",
    "from ipdb import set_trace as bp\n",
    "from numba.typed import List\n",
    "\n",
    "from collections import namedtuple\n",
    "\n",
    "np.set_printoptions(linewidth=160, precision=2)"
   ]
  },
  {
   "cell_type": "code",
   "execution_count": 241,
   "metadata": {},
   "outputs": [],
   "source": [
    "ParamTuple = namedtuple(\"ParamTuple\", [\"gamma\", \"p\"])"
   ]
  },
  {
   "cell_type": "code",
   "execution_count": 242,
   "metadata": {},
   "outputs": [],
   "source": [
    "# @jit(nopython=True)\n",
    "def value_iteration_with_policy(\n",
    "    R: np.ndarray,\n",
    "    T_agent: np.ndarray,\n",
    "    gamma: float,\n",
    "    tol: float = 1e-6,\n",
    "):\n",
    "    n_states = R.shape[0]\n",
    "    V = np.zeros(n_states)\n",
    "    policy = np.zeros(n_states, dtype=np.int32)\n",
    "    while True:\n",
    "        V_new = np.zeros(n_states)\n",
    "        for s in range(n_states):\n",
    "            action_values = R[s] + gamma * np.sum(T_agent[s] * V, axis=1)\n",
    "            best_action = np.argmax(action_values)\n",
    "            V_new[s] = action_values[best_action]\n",
    "            policy[s] = best_action\n",
    "        if np.max(np.abs(V - V_new)) < tol:\n",
    "            break\n",
    "        V = V_new\n",
    "    V = V / np.max(V) * R.max()\n",
    "    return V, policy"
   ]
  },
  {
   "cell_type": "code",
   "execution_count": 243,
   "metadata": {},
   "outputs": [],
   "source": [
    "# @jit(nopython=True)\n",
    "def generate_trajectory(T_true, policy, absorbing_states, start_state=0, max_steps=100):\n",
    "    trajectory = []\n",
    "    current_state = start_state\n",
    "    n_states = len(policy)\n",
    "\n",
    "    while len(trajectory) < max_steps:\n",
    "        if current_state in absorbing_states:\n",
    "            trajectory.append((current_state, -1, -1))  # Append the absorbing state\n",
    "            break\n",
    "        chosen_action = policy[current_state]\n",
    "        # Manually sample next_state based on T_true\n",
    "        cumulative_prob = 0.0\n",
    "        rand_num = np.random.rand()\n",
    "        next_state = 0\n",
    "        for s in range(n_states):\n",
    "            cumulative_prob += T_true[current_state, chosen_action, s]\n",
    "            if rand_num < cumulative_prob:\n",
    "                next_state = s\n",
    "                break\n",
    "\n",
    "        trajectory.append((current_state, chosen_action, next_state))\n",
    "        current_state = next_state\n",
    "\n",
    "    trajectory = np.array(trajectory)\n",
    "    return trajectory"
   ]
  },
  {
   "cell_type": "code",
   "execution_count": 244,
   "metadata": {},
   "outputs": [],
   "source": [
    "# @jit(nopython=True)\n",
    "def generate_n_trajectories(\n",
    "    T_true, policy, absorbing_states, n_trajectories=100, max_steps=100\n",
    "):\n",
    "    trajectories = list()\n",
    "    for _ in range(n_trajectories):\n",
    "        trajectories.append(\n",
    "            generate_trajectory(T_true, policy, absorbing_states, max_steps=max_steps)\n",
    "        )\n",
    "    return trajectories"
   ]
  },
  {
   "cell_type": "code",
   "execution_count": 245,
   "metadata": {},
   "outputs": [],
   "source": [
    "# @jit(nopython=True)\n",
    "def make_absorbing(R: np.ndarray, T: np.ndarray) -> None:\n",
    "    reward_indices = np.where(R > 0)[0]\n",
    "    T[reward_indices, :, :] = 0\n",
    "    T[reward_indices, :, reward_indices] = 1"
   ]
  },
  {
   "cell_type": "code",
   "execution_count": 246,
   "metadata": {},
   "outputs": [],
   "source": [
    "@jit(nopython=True)\n",
    "def transition_matrix(N, M, p):\n",
    "    n_states = N * M\n",
    "    n_actions = 4  # N, E, S, W\n",
    "\n",
    "    # Initialize the transition matrix\n",
    "    T = np.zeros((n_states, n_actions, n_states))\n",
    "\n",
    "    # Helper function to convert 2D grid indices to 1D state index\n",
    "    to_s = lambda i, j: i * M + j\n",
    "\n",
    "    # Populate the transition matrix\n",
    "    for i in range(N):\n",
    "        for j in range(M):\n",
    "            s = to_s(i, j)\n",
    "\n",
    "            # Neighboring states\n",
    "            neighbors = {\n",
    "                \"N\": to_s(i - 1, j) if i > 0 else s,\n",
    "                \"E\": to_s(i, j + 1) if j < M - 1 else s,\n",
    "                \"S\": to_s(i + 1, j) if i < N - 1 else s,\n",
    "                \"W\": to_s(i, j - 1) if j > 0 else s,\n",
    "            }\n",
    "\n",
    "            # Set transition probabilities\n",
    "            for a, action in enumerate([\"N\", \"E\", \"S\", \"W\"]):\n",
    "                T[s, a, neighbors[action]] = p\n",
    "                for other_action in set([\"N\", \"E\", \"S\", \"W\"]) - {action}:\n",
    "                    T[s, a, neighbors[other_action]] += (1 - p) / 3\n",
    "\n",
    "    return T"
   ]
  },
  {
   "cell_type": "code",
   "execution_count": 247,
   "metadata": {},
   "outputs": [],
   "source": [
    "def plot_trajectories(N, M, trajectories, reward_matrix):\n",
    "    plt.figure(figsize=(M, N))\n",
    "\n",
    "    # Plot rewards as heatmap\n",
    "    plt.imshow(reward_matrix.reshape(N, M), cmap=\"viridis\", origin=\"upper\")\n",
    "\n",
    "    # Plot trajectories\n",
    "    for traj in trajectories:\n",
    "        x_coords, y_coords = [], []\n",
    "        for s, _, _ in traj:\n",
    "            x, y = divmod(s, M)\n",
    "            x_coords.append(x)\n",
    "            y_coords.append(y)\n",
    "\n",
    "        # Plot the trajectories with a color that stands out\n",
    "        plt.plot(y_coords, x_coords, marker=\"o\", color=\"white\", alpha=0.5)\n",
    "\n",
    "    plt.colorbar(label=\"Reward\")\n",
    "    plt.gca().xaxis.tick_top()\n",
    "    plt.show()"
   ]
  },
  {
   "cell_type": "code",
   "execution_count": 248,
   "metadata": {},
   "outputs": [],
   "source": [
    "def plot_value_and_policy(\n",
    "    value_function, policy, grid_shape, absorbing_states, title=\"\", ax=None\n",
    "):\n",
    "    if ax is None:\n",
    "        fig, ax = plt.subplots(figsize=grid_shape[::-1])\n",
    "\n",
    "    ax.imshow(\n",
    "        value_function.reshape(grid_shape),\n",
    "        cmap=\"viridis\",\n",
    "        origin=\"upper\",\n",
    "        interpolation=\"nearest\",\n",
    "    )\n",
    "    # Make colorbar\n",
    "    cbar = ax.figure.colorbar(ax.get_images()[0])\n",
    "\n",
    "    for s, val in enumerate(value_function):\n",
    "        if s in absorbing_states:\n",
    "            continue  # Skip arrows for absorbing states\n",
    "\n",
    "        row, col = divmod(s, grid_shape[1])\n",
    "        action = policy[s]\n",
    "        if action == 0:  # N\n",
    "            dx, dy = 0, -0.4\n",
    "        elif action == 1:  # E\n",
    "            dx, dy = 0.4, 0\n",
    "        elif action == 2:  # S\n",
    "            dx, dy = 0, 0.4\n",
    "        elif action == 3:  # W\n",
    "            dx, dy = -0.4, 0\n",
    "        # make arrow\n",
    "        ax.arrow(col, row, dx, dy, head_width=0.1, head_length=0.1, fc=\"r\", ec=\"r\")\n",
    "\n",
    "    ax.set_title(title)"
   ]
  },
  {
   "cell_type": "code",
   "execution_count": 249,
   "metadata": {},
   "outputs": [],
   "source": [
    "# Make function that counts state visit frequencies from trajectories\n",
    "@jit(nopython=True)\n",
    "def count_state_visits(trajectories, n_states):\n",
    "    state_visits = np.zeros(n_states)\n",
    "    for traj in trajectories:\n",
    "        for s, _, _ in traj:\n",
    "            state_visits[s] += 1\n",
    "    return state_visits / state_visits.sum()"
   ]
  },
  {
   "cell_type": "markdown",
   "metadata": {},
   "source": [
    "### Define a world where different $\\gamma$ leads to different optimal policies\n"
   ]
  },
  {
   "cell_type": "code",
   "execution_count": 250,
   "metadata": {},
   "outputs": [],
   "source": [
    "# World definition\n",
    "\n",
    "# Key: S: start, Number: Reward size\n",
    "\n",
    "# Idea: Make a reaaaaaaaaally simple BigSmall world to see if the\n",
    "# likelihood calculation we have give reasonable numbers\n",
    "\n",
    "#   0 1 2\n",
    "# 0 S . .\n",
    "# 1 . . .\n",
    "# 2 1 . 4"
   ]
  },
  {
   "cell_type": "code",
   "execution_count": 299,
   "metadata": {},
   "outputs": [
    {
     "data": {
      "text/plain": [
       "<matplotlib.lines.Line2D at 0x14f506a90>"
      ]
     },
     "execution_count": 299,
     "metadata": {},
     "output_type": "execute_result"
    },
    {
     "data": {
      "image/png": "[encoded data removed]",
      "text/plain": [
       "<Figure size 640x480 with 1 Axes>"
      ]
     },
     "metadata": {},
     "output_type": "display_data"
    }
   ],
   "source": [
    "short_len = 4\n",
    "long_len = 8\n",
    "small_reward = 1\n",
    "\n",
    "# Set big_reward such that the crossover for \\gamma is at 0.75 (p = 1 for now)\n",
    "big_reward = 2\n",
    "\n",
    "xs = np.linspace(0, 1, 100)\n",
    "\n",
    "plt.plot(xs, big_reward * xs**long_len - small_reward * xs**short_len)\n",
    "plt.axhline(0, color=\"k\")"
   ]
  },
  {
   "cell_type": "code",
   "execution_count": 252,
   "metadata": {},
   "outputs": [],
   "source": [
    "N, M = 3, 3  # dimensions of the gridworld\n",
    "\n",
    "n_states, n_actions = N * M, 4\n",
    "R = np.array(\n",
    "    [\n",
    "        [0] * M,\n",
    "        [0] * M,\n",
    "        [small_reward, 0, big_reward],\n",
    "    ]\n",
    ").flatten()\n",
    "\n",
    "true_params = ParamTuple(gamma=0.5, p=0.9)\n",
    "\n",
    "T_agent_ground = transition_matrix(N, M, p=true_params.p)  # Agent's transition matrix\n",
    "T_true = transition_matrix(N, M, p=0.9)  # True transition matrix\n",
    "absorbing_states = np.where(R > 0)[0]  # Absorbing states\n",
    "\n",
    "make_absorbing(R, T_agent_ground)\n",
    "make_absorbing(R, T_true)"
   ]
  },
  {
   "cell_type": "code",
   "execution_count": 253,
   "metadata": {},
   "outputs": [
    {
     "data": {
      "text/plain": [
       "array([2, 2, 2, 2, 2, 2, 1], dtype=int32)"
      ]
     },
     "execution_count": 253,
     "metadata": {},
     "output_type": "execute_result"
    }
   ],
   "source": [
    "# Generate V and policy\n",
    "V_ground, ground_policy = value_iteration_with_policy(\n",
    "    R, T_agent_ground, gamma=true_params.gamma\n",
    ")\n",
    "non_absorbing_states = np.where(R <= 0)[0]\n",
    "ground_policy[non_absorbing_states]"
   ]
  },
  {
   "cell_type": "code",
   "execution_count": 254,
   "metadata": {},
   "outputs": [
    {
     "data": {
      "image/png": "[encoded data removed]",
      "text/plain": [
       "<Figure size 300x300 with 2 Axes>"
      ]
     },
     "metadata": {},
     "output_type": "display_data"
    }
   ],
   "source": [
    "# Generate trajectories\n",
    "trajectories = generate_n_trajectories(\n",
    "    T_true, ground_policy, absorbing_states, n_trajectories=1, max_steps=100\n",
    ")\n",
    "\n",
    "plot_trajectories(N, M, trajectories, R)"
   ]
  },
  {
   "cell_type": "code",
   "execution_count": 256,
   "metadata": {},
   "outputs": [
    {
     "data": {
      "text/plain": [
       "1"
      ]
     },
     "execution_count": 256,
     "metadata": {},
     "output_type": "execute_result"
    }
   ],
   "source": [
    "len(trajectories)"
   ]
  },
  {
   "cell_type": "markdown",
   "metadata": {},
   "source": [
    "## Make the simplest possible case\n",
    "\n",
    "We have two parameter samples from the posterior: $\\{\\gamma_1=0.5, \\gamma_2 = 0.9\\}$.\n",
    "\n",
    "The first will produce a trajectory going down, the second will produce a trajectory going right.\n",
    "\n",
    "Then, we can get the likelihood for each of these trajectories under their own $\\gamma$.\n",
    "\n",
    "Then, we can find one policy that tries to maximize the likelihood of the dataset $\\mathcal D$ consisting of these two trajectories.\n",
    "\n",
    "Hopefully (_dear god_) this will be smaller than the likelihood of the dataset $\\mathcal D$ under the true $\\gamma$-s.\n"
   ]
  },
  {
   "cell_type": "code",
   "execution_count": 257,
   "metadata": {},
   "outputs": [],
   "source": [
    "def det_to_prob_pol(policy, smoothing=0.0):\n",
    "    policy = np.eye(n_actions)[policy]\n",
    "    policy += smoothing\n",
    "    policy /= policy.sum(axis=1, keepdims=True)\n",
    "    return policy"
   ]
  },
  {
   "cell_type": "code",
   "execution_count": 258,
   "metadata": {},
   "outputs": [],
   "source": [
    "posterior1 = 0.5\n",
    "posterior2 = 0.9"
   ]
  },
  {
   "cell_type": "code",
   "execution_count": 259,
   "metadata": {},
   "outputs": [
    {
     "data": {
      "image/png": "[encoded data removed]",
      "text/plain": [
       "<Figure size 300x300 with 2 Axes>"
      ]
     },
     "metadata": {},
     "output_type": "display_data"
    }
   ],
   "source": [
    "# Make trajectory for posterior1\n",
    "_, policy1 = value_iteration_with_policy(R, T_agent_ground, gamma=posterior1)\n",
    "\n",
    "# Generate trajectories\n",
    "trajectories1 = generate_n_trajectories(\n",
    "    T_true, policy1, absorbing_states, n_trajectories=1, max_steps=100\n",
    ")\n",
    "\n",
    "policy1 = det_to_prob_pol(policy1, smoothing=0.0)\n",
    "\n",
    "plot_trajectories(N, M, trajectories1, R)"
   ]
  },
  {
   "cell_type": "code",
   "execution_count": 276,
   "metadata": {},
   "outputs": [
    {
     "data": {
      "image/png": "[encoded data removed]",
      "text/plain": [
       "<Figure size 300x300 with 2 Axes>"
      ]
     },
     "metadata": {},
     "output_type": "display_data"
    }
   ],
   "source": [
    "# Make trajectory for posterior2\n",
    "_, policy2 = value_iteration_with_policy(R, T_agent_ground, gamma=posterior2)\n",
    "\n",
    "# Generate trajectories\n",
    "trajectories2 = generate_n_trajectories(\n",
    "    T_true, policy2, absorbing_states, n_trajectories=1, max_steps=100\n",
    ")\n",
    "\n",
    "policy2 = det_to_prob_pol(policy2, smoothing=0.0)\n",
    "\n",
    "plot_trajectories(N, M, trajectories2, R)"
   ]
  },
  {
   "cell_type": "code",
   "execution_count": 277,
   "metadata": {},
   "outputs": [],
   "source": [
    "policies = [policy1, policy2]"
   ]
  },
  {
   "cell_type": "code",
   "execution_count": 278,
   "metadata": {},
   "outputs": [
    {
     "data": {
      "image/png": "[encoded data removed]",
      "text/plain": [
       "<Figure size 300x300 with 2 Axes>"
      ]
     },
     "metadata": {},
     "output_type": "display_data"
    }
   ],
   "source": [
    "trajectories = trajectories1 + trajectories2\n",
    "\n",
    "plot_trajectories(N, M, trajectories, R)"
   ]
  },
  {
   "cell_type": "code",
   "execution_count": 279,
   "metadata": {},
   "outputs": [],
   "source": [
    "# Make function to calculate log-likelihood of a trajectory given a transition matrix and policy\n",
    "def log_likelihood(T, policy, trajectory):\n",
    "    log_likelihood = 0.0\n",
    "    for s, a, next_s in trajectory[:-1]:\n",
    "        log_likelihood += np.log(T[s, a, next_s] * policy[s, a])\n",
    "    return log_likelihood"
   ]
  },
  {
   "cell_type": "code",
   "execution_count": 280,
   "metadata": {},
   "outputs": [],
   "source": [
    "cand_pol = np.ones((n_states, n_actions)) / n_actions"
   ]
  },
  {
   "cell_type": "code",
   "execution_count": 281,
   "metadata": {},
   "outputs": [
    {
     "data": {
      "text/plain": [
       "(-0.21072103131565256,\n",
       " -2.983309753555434,\n",
       " -0.21072103131565256,\n",
       " -2.983309753555434)"
      ]
     },
     "execution_count": 281,
     "metadata": {},
     "output_type": "execute_result"
    }
   ],
   "source": [
    "(\n",
    "    log_likelihood(T_true, policies[0], trajectories[0]),\n",
    "    log_likelihood(T_true, cand_pol, trajectories[0]),\n",
    "    log_likelihood(T_true, policies[1], trajectories[1]),\n",
    "    log_likelihood(T_true, cand_pol, trajectories[1]),\n",
    ")"
   ]
  },
  {
   "cell_type": "code",
   "execution_count": 282,
   "metadata": {},
   "outputs": [
    {
     "data": {
      "text/plain": [
       "(-0.21072103131565256, -2.983309753555434)"
      ]
     },
     "execution_count": 282,
     "metadata": {},
     "output_type": "execute_result"
    }
   ],
   "source": [
    "(\n",
    "    (\n",
    "        log_likelihood(T_true, policies[0], trajectories[0])\n",
    "        + log_likelihood(T_true, policies[1], trajectories[1])\n",
    "    )\n",
    "    / 2,\n",
    "    (\n",
    "        log_likelihood(T_true, cand_pol, trajectories[0])\n",
    "        + log_likelihood(T_true, cand_pol, trajectories[1])\n",
    "    )\n",
    "    / 2,\n",
    ")"
   ]
  },
  {
   "cell_type": "code",
   "execution_count": 283,
   "metadata": {},
   "outputs": [],
   "source": [
    "from tqdm import trange\n",
    "\n",
    "best = -np.inf\n",
    "best_pol = None\n",
    "best_list = []"
   ]
  },
  {
   "cell_type": "code",
   "execution_count": 284,
   "metadata": {},
   "outputs": [
    {
     "name": "stderr",
     "output_type": "stream",
     "text": [
      "100%|██████████| 5000000/5000000 [01:01<00:00, 81399.62it/s]\n"
     ]
    },
    {
     "data": {
      "text/plain": [
       "(-0.3288827679935827,\n",
       " array([[2.64e-02, 1.61e-02, 9.57e-01, 8.56e-04],\n",
       "        [7.64e-03, 4.98e-01, 1.58e-01, 3.36e-01],\n",
       "        [5.09e-01, 8.44e-02, 1.50e-01, 2.57e-01],\n",
       "        [5.11e-02, 1.11e-02, 9.29e-01, 9.05e-03],\n",
       "        [3.50e-01, 3.77e-01, 7.37e-02, 1.99e-01],\n",
       "        [1.30e-01, 9.36e-02, 5.10e-01, 2.66e-01],\n",
       "        [3.97e-01, 3.97e-01, 4.13e-02, 1.64e-01],\n",
       "        [3.10e-01, 3.43e-01, 1.02e-01, 2.45e-01],\n",
       "        [7.24e-02, 1.58e-01, 7.20e-01, 4.99e-02]]))"
      ]
     },
     "execution_count": 284,
     "metadata": {},
     "output_type": "execute_result"
    },
    {
     "data": {
      "image/png": "[encoded data removed]",
      "text/plain": [
       "<Figure size 640x480 with 1 Axes>"
      ]
     },
     "metadata": {},
     "output_type": "display_data"
    }
   ],
   "source": [
    "for i in trange(5_000_000):\n",
    "    # Sample a new policy\n",
    "    cand_pol = np.random.dirichlet(np.ones(n_actions), size=n_states)\n",
    "\n",
    "    mean_log_likelihood = np.array(\n",
    "        [log_likelihood(T_true, cand_pol, traj) for traj in trajectories]\n",
    "    ).mean()\n",
    "\n",
    "    if mean_log_likelihood > best:\n",
    "        best = mean_log_likelihood\n",
    "        best_pol = cand_pol\n",
    "        best_list.append((i, best))\n",
    "\n",
    "\n",
    "# Plot the best list with circles\n",
    "plt.plot([x[0] for x in best_list], [x[1] for x in best_list], \"-o\", alpha=0.5)\n",
    "\n",
    "best, best_pol"
   ]
  },
  {
   "cell_type": "markdown",
   "metadata": {},
   "source": [
    "## Put it all together to a more comprehensive example\n"
   ]
  },
  {
   "cell_type": "code",
   "execution_count": 303,
   "metadata": {},
   "outputs": [],
   "source": [
    "def run_likelihood_exp(big_reward, N=3, M=3):\n",
    "    small_reward = 1\n",
    "    n_states, n_actions = N * M, 4\n",
    "    R = np.zeros((N, M))\n",
    "\n",
    "    R[-1, 0] = small_reward\n",
    "    R[-1, -1] = big_reward\n",
    "\n",
    "    R = R.flatten()\n",
    "\n",
    "    T_true = transition_matrix(N, M, p=0.9)  # True transition matrix\n",
    "    absorbing_states = np.where(R > 0)[0]  # Absorbing states\n",
    "    make_absorbing(R, T_true)\n",
    "\n",
    "    posterior1 = 0.5\n",
    "    posterior2 = 0.9\n",
    "\n",
    "    # Make trajectory for posterior1\n",
    "    _, policy1 = value_iteration_with_policy(R, T_agent_ground, gamma=posterior1)\n",
    "\n",
    "    # Generate trajectories\n",
    "    trajectories1 = generate_n_trajectories(\n",
    "        T_true, policy1, absorbing_states, n_trajectories=1, max_steps=100\n",
    "    )\n",
    "\n",
    "    policy1 = det_to_prob_pol(policy1, smoothing=0.0)\n",
    "\n",
    "    # Make trajectory for posterior2\n",
    "    _, policy2 = value_iteration_with_policy(R, T_agent_ground, gamma=posterior2)\n",
    "\n",
    "    # Generate trajectories\n",
    "    trajectories2 = generate_n_trajectories(\n",
    "        T_true, policy2, absorbing_states, n_trajectories=1, max_steps=100\n",
    "    )\n",
    "\n",
    "    policy2 = det_to_prob_pol(policy2, smoothing=0.0)\n",
    "\n",
    "    policies = [policy1, policy2]\n",
    "    trajectories = trajectories1 + trajectories2\n",
    "\n",
    "    plot_trajectories(N, M, trajectories, R)\n",
    "\n",
    "    mean_likelihood_star = (\n",
    "        log_likelihood(T_true, policies[0], trajectories[0])\n",
    "        + log_likelihood(T_true, policies[1], trajectories[1])\n",
    "    ) / 2\n",
    "\n",
    "    print(f\"Mean likelihood star: {mean_likelihood_star}\")\n",
    "\n",
    "    best = -np.inf\n",
    "    best_pol = None\n",
    "    best_list = []\n",
    "    for i in trange(1_000_000):\n",
    "        # Sample a new policy\n",
    "        cand_pol = np.random.dirichlet(np.ones(n_actions), size=n_states)\n",
    "\n",
    "        mean_log_likelihood = np.array(\n",
    "            [log_likelihood(T_true, cand_pol, traj) for traj in trajectories]\n",
    "        ).mean()\n",
    "\n",
    "        if mean_log_likelihood > best:\n",
    "            best = mean_log_likelihood\n",
    "            best_pol = cand_pol\n",
    "            best_list.append((i, best))\n",
    "\n",
    "    # Plot the best list with circles\n",
    "    # plt.plot([x[0] for x in best_list], [x[1] for x in best_list], \"-o\", alpha=0.5)\n",
    "\n",
    "    print(f\"Best likelihood: {best}\")\n",
    "\n",
    "    return mean_likelihood_star, best"
   ]
  },
  {
   "cell_type": "code",
   "execution_count": 304,
   "metadata": {},
   "outputs": [
    {
     "data": {
      "image/png": "[encoded data removed]",
      "text/plain": [
       "<Figure size 300x300 with 2 Axes>"
      ]
     },
     "metadata": {},
     "output_type": "display_data"
    },
    {
     "name": "stdout",
     "output_type": "stream",
     "text": [
      "Mean likelihood star: -0.21072103131565256\n"
     ]
    },
    {
     "name": "stderr",
     "output_type": "stream",
     "text": [
      "100%|██████████| 1000000/1000000 [00:12<00:00, 79259.59it/s]\n"
     ]
    },
    {
     "name": "stdout",
     "output_type": "stream",
     "text": [
      "Best likelihood: -0.35941928045773186\n"
     ]
    },
    {
     "data": {
      "image/png": "[encoded data removed]",
      "text/plain": [
       "<Figure size 300x300 with 2 Axes>"
      ]
     },
     "metadata": {},
     "output_type": "display_data"
    },
    {
     "name": "stdout",
     "output_type": "stream",
     "text": [
      "Mean likelihood star: -0.31608154697347884\n"
     ]
    },
    {
     "name": "stderr",
     "output_type": "stream",
     "text": [
      "100%|██████████| 1000000/1000000 [00:14<00:00, 66876.44it/s]\n"
     ]
    },
    {
     "name": "stdout",
     "output_type": "stream",
     "text": [
      "Best likelihood: -1.875746369440737\n"
     ]
    },
    {
     "data": {
      "image/png": "[encoded data removed]",
      "text/plain": [
       "<Figure size 300x300 with 2 Axes>"
      ]
     },
     "metadata": {},
     "output_type": "display_data"
    },
    {
     "name": "stdout",
     "output_type": "stream",
     "text": [
      "Mean likelihood star: -2.1747210112912962\n"
     ]
    },
    {
     "name": "stderr",
     "output_type": "stream",
     "text": [
      "100%|██████████| 1000000/1000000 [00:19<00:00, 52100.89it/s]"
     ]
    },
    {
     "name": "stdout",
     "output_type": "stream",
     "text": [
      "Best likelihood: -4.254028934336832\n"
     ]
    },
    {
     "name": "stderr",
     "output_type": "stream",
     "text": [
      "\n"
     ]
    }
   ],
   "source": [
    "results1 = (\n",
    "    run_likelihood_exp(big_reward=1),\n",
    "    run_likelihood_exp(big_reward=2),\n",
    "    run_likelihood_exp(big_reward=8),\n",
    ")"
   ]
  },
  {
   "cell_type": "code",
   "execution_count": 310,
   "metadata": {},
   "outputs": [
    {
     "name": "stdout",
     "output_type": "stream",
     "text": [
      "[0.11 0.58 0.1 ]\n"
     ]
    }
   ],
   "source": [
    "with np.printoptions(precision=2, suppress=True):\n",
    "    print(-np.diff(np.exp(np.array(results1))).flatten())"
   ]
  },
  {
   "cell_type": "markdown",
   "metadata": {},
   "source": []
  }
 ],
 "metadata": {
  "kernelspec": {
   "display_name": "venv",
   "language": "python",
   "name": "python3"
  },
  "language_info": {
   "codemirror_mode": {
    "name": "ipython",
    "version": 3
   },
   "file_extension": ".py",
   "mimetype": "text/x-python",
   "name": "python",
   "nbconvert_exporter": "python",
   "pygments_lexer": "ipython3",
   "version": "3.11.4"
  },
  "orig_nbformat": 4
 },
 "nbformat": 4,
 "nbformat_minor": 2
}
